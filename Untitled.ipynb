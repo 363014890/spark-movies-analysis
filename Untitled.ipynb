{
 "cells": [
  {
   "cell_type": "code",
   "execution_count": null,
   "id": "3bb76b90",
   "metadata": {},
   "outputs": [],
   "source": [
    "from pyspark.sql.functions import from_json, col, explode,\\\n",
    "   get_json_object, regexp_replace, array\n",
    "from pyspark.sql.types import StructType, StructField,\\\n",
    "    StringType, IntegerType, ArrayType, MapType, DoubleType\n",
    "cred_df = spark.read.csv('movie/credits.csv', header=True, escape='\"')\n",
    "# movi_df = spark.read.csv('movie/movies_metadata.csv', header=True, escape='\"')\n",
    "json_schema = ArrayType(StructType([\n",
    "#     StructField(\"cast_id\", IntegerType(), True),\n",
    "#     StructField(\"character\", StringType(), True),\n",
    "#     StructField(\"credit_id\", StringType(), True),\n",
    "#     StructField(\"gender\", IntegerType(), True),\n",
    "    StructField(\"id\", IntegerType(), True),\n",
    "    StructField(\"job\", StringType(), True),\n",
    "#     StructField(\"order\", IntegerType(), True),\n",
    "#     StructField(\"profile_path\", StringType(), True)\n",
    "]))\n",
    "\n",
    "cred_df = cred_df.withColumn('crew',\\\n",
    "                             regexp_replace(\"crew\", 'None', \"'None'\"))\n",
    "cred_df = cred_df.withColumn(\"cast_array\", from_json(col(\"cast\"),\\\n",
    "                                                     json_schema))\n",
    "cred_df = cred_df.withColumn(\"cast_array\",\\\n",
    "                             array(col('cast_array')[0],\\\n",
    "                                   col('cast_array')[1],\\\n",
    "                                   col('cast_array')[2]))\n",
    "cast_df = cred_df.select(col(\"id\").alias(\"movieId\"), explode(col(\"cast_array\"))\\\n",
    "                         .alias(\"cast_item\"))\n",
    "crew_name_df = cast_df.withColumn(\"castId\", col(\"cast_item\")[\"id\"])\\\n",
    "                    .drop('cast_item')\n",
    "# cast_name_df.show()\n"
   ]
  }
 ],
 "metadata": {
  "kernelspec": {
   "display_name": "Python 3 (ipykernel)",
   "language": "python",
   "name": "python3"
  },
  "language_info": {
   "codemirror_mode": {
    "name": "ipython",
    "version": 3
   },
   "file_extension": ".py",
   "mimetype": "text/x-python",
   "name": "python",
   "nbconvert_exporter": "python",
   "pygments_lexer": "ipython3",
   "version": "3.9.13"
  }
 },
 "nbformat": 4,
 "nbformat_minor": 5
}
