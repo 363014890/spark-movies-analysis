{
 "cells": [
  {
   "cell_type": "code",
   "execution_count": null,
   "id": "419fa64e",
   "metadata": {},
   "outputs": [],
   "source": []
  },
  {
   "cell_type": "code",
   "execution_count": 6,
   "id": "b3374d50",
   "metadata": {},
   "outputs": [],
   "source": [
    "# reading the files in RDD\n",
    "credits = sc.textFile('data/credits.csv')\n",
    "keywords = sc.textFile('data/keywords.csv')\n",
    "links = sc.textFile('data/links.csv')\n",
    "links_small = sc.textFile('data/links_small.csv')\n",
    "ratings = sc.textFile('data/ratings.csv')\n",
    "ratings_small = sc.textFile('data/ratings_small.csv')\n",
    "movies_metadata = sc.textFile('data/movies_metadata.csv')"
   ]
  },
  {
   "cell_type": "code",
   "execution_count": 7,
   "id": "efc19b69",
   "metadata": {
    "scrolled": true
   },
   "outputs": [
    {
     "name": "stderr",
     "output_type": "stream",
     "text": [
      "                                                                                \r"
     ]
    },
    {
     "name": "stdout",
     "output_type": "stream",
     "text": [
      "credits:  45477\n",
      "keywords:  46420\n",
      "links:  45844\n",
      "ratings:  26024290\n",
      "movies_metadata:  45573\n"
     ]
    }
   ],
   "source": [
    "# get size of each RDD\n",
    "cred_count = credits.count()\n",
    "key_count = keywords.count()\n",
    "link_count = links.count()\n",
    "rating_count = ratings.count()\n",
    "movies_metadata_count = movies_metadata.count()\n",
    "\n",
    "# print the size of each RDD\n",
    "print('credits: ', cred_count)\n",
    "print('keywords: ', key_count)\n",
    "print('links: ', link_count)\n",
    "print('ratings: ', rating_count)\n",
    "print('movies_metadata: ', movies_metadata_count)"
   ]
  },
  {
   "cell_type": "code",
   "execution_count": 8,
   "id": "5717f62e",
   "metadata": {},
   "outputs": [
    {
     "name": "stderr",
     "output_type": "stream",
     "text": [
      "                                                                                \r"
     ]
    },
    {
     "name": "stdout",
     "output_type": "stream",
     "text": [
      "There are 37 duplicate data in credits: \n",
      "There are 987 duplicate data in keywords: \n",
      "There are 0 duplicate data in links: \n"
     ]
    },
    {
     "name": "stderr",
     "output_type": "stream",
     "text": [
      "                                                                                \r"
     ]
    },
    {
     "name": "stdout",
     "output_type": "stream",
     "text": [
      "There are 0 duplicate data in ratings: \n"
     ]
    },
    {
     "name": "stderr",
     "output_type": "stream",
     "text": [
      "\r\n",
      "[Stage 15:>                                                         (0 + 2) / 2]\r"
     ]
    },
    {
     "name": "stdout",
     "output_type": "stream",
     "text": [
      "There are 17 duplicate data in movies_metadata: \n"
     ]
    },
    {
     "name": "stderr",
     "output_type": "stream",
     "text": [
      "\r\n",
      "                                                                                \r"
     ]
    }
   ],
   "source": [
    "# reduce the duplicate data\n",
    "cred_distinct = credits.distinct()\n",
    "key_distinct = keywords.distinct()\n",
    "link_distinct = links.distinct()\n",
    "rating_distinct = ratings.distinct()\n",
    "movies_metadata_distinct = movies_metadata.distinct()\n",
    "\n",
    "print(f'There are {cred_count - cred_distinct.count()} duplicate data in credits: ')\n",
    "print(f'There are {key_count - key_distinct.count()} duplicate data in keywords: ')\n",
    "print(f'There are {link_count - link_distinct.count()} duplicate data in links: ')\n",
    "print(f'There are {rating_count - rating_distinct.count()} duplicate data in ratings: ')\n",
    "print(f'There are {movies_metadata_count - movies_metadata_distinct.count()} duplicate data in movies_metadata: ')"
   ]
  },
  {
   "cell_type": "code",
   "execution_count": 120,
   "id": "4c6fe1a9",
   "metadata": {},
   "outputs": [
    {
     "name": "stdout",
     "output_type": "stream",
     "text": [
      "+-------+------+\n",
      "|movieId|castId|\n",
      "+-------+------+\n",
      "|    862|    31|\n",
      "|    862| 12898|\n",
      "|    862|  7167|\n",
      "|   8844|  2157|\n",
      "|   8844|  8537|\n",
      "|   8844|   205|\n",
      "|  15602|  6837|\n",
      "|  15602|  3151|\n",
      "|  15602| 13567|\n",
      "|  31357|  8851|\n",
      "|  31357|  9780|\n",
      "|  31357| 18284|\n",
      "|  11862| 67773|\n",
      "|  11862|  3092|\n",
      "|  11862|   519|\n",
      "|    949|  1158|\n",
      "|    949|   380|\n",
      "|    949|  5576|\n",
      "|  11860|     3|\n",
      "|  11860| 15887|\n",
      "+-------+------+\n",
      "only showing top 20 rows\n",
      "\n"
     ]
    }
   ],
   "source": [
    "from pyspark.sql.functions import from_json, col, explode,\\\n",
    "   get_json_object, regexp_replace, array\n",
    "from pyspark.sql.types import StructType, StructField,\\\n",
    "    StringType, IntegerType, ArrayType, MapType, DoubleType\n",
    "cred_df = spark.read.csv('movie/credits.csv', header=True, escape='\"')\n",
    "# movi_df = spark.read.csv('movie/movies_metadata.csv', header=True, escape='\"')\n",
    "json_schema = ArrayType(StructType([\n",
    "    StructField(\"cast_id\", IntegerType(), True),\n",
    "    StructField(\"character\", StringType(), True),\n",
    "    StructField(\"credit_id\", StringType(), True),\n",
    "    StructField(\"gender\", IntegerType(), True),\n",
    "    StructField(\"id\", IntegerType(), True),\n",
    "    StructField(\"name\", StringType(), True),\n",
    "    StructField(\"order\", IntegerType(), True),\n",
    "    StructField(\"profile_path\", StringType(), True)\n",
    "]))\n",
    "\n",
    "cred_df = cred_df.withColumn('cast',\\\n",
    "                             regexp_replace(\"cast\", 'None', \"'None'\"))\n",
    "cred_df = cred_df.withColumn(\"cast_array\", from_json(col(\"cast\"),\\\n",
    "                                                     json_schema))\n",
    "cred_df = cred_df.withColumn(\"cast_array\",\\\n",
    "                             array(col('cast_array')[0],\\\n",
    "                                   col('cast_array')[1],\\\n",
    "                                   col('cast_array')[2]))\n",
    "cast_df = cred_df.select(col(\"id\").alias(\"movieId\"), explode(col(\"cast_array\"))\\\n",
    "                         .alias(\"cast_item\"))\n",
    "cast_name_df = cast_df.withColumn(\"castId\", col(\"cast_item\")[\"id\"])\\\n",
    "                    .drop('cast_item')\n",
    "# cast_name_df.show()\n"
   ]
  },
  {
   "cell_type": "code",
   "execution_count": 126,
   "id": "692c9013",
   "metadata": {},
   "outputs": [],
   "source": [
    "ratings_df = spark.read.csv('movie/ratings.csv', header=True, escape='\"')\n",
    "ratings_df = ratings_df.withColumn('rating', ratings_df['rating']\\\n",
    "                                   .cast(DoubleType()))\n",
    "ratings_df = ratings_df.groupBy(\"movieId\")\\\n",
    "                        .avg(\"rating\")\\\n",
    "                        .withColumnRenamed(\"avg(rating)\", \"rating\")"
   ]
  },
  {
   "cell_type": "code",
   "execution_count": 128,
   "id": "439fb270",
   "metadata": {},
   "outputs": [
    {
     "name": "stderr",
     "output_type": "stream",
     "text": [
      "[Stage 165:===============================================>         (5 + 1) / 6]\r"
     ]
    },
    {
     "name": "stdout",
     "output_type": "stream",
     "text": [
      "+-------+------------------+\n",
      "| castId|            rating|\n",
      "+-------+------------------+\n",
      "|1362204|             3.375|\n",
      "|  18979|3.7976480836236934|\n",
      "|   1959| 3.250567650909128|\n",
      "|  69637|3.7530362663626198|\n",
      "| 107536|2.9383561643835616|\n",
      "|  11317| 3.397006755182856|\n",
      "|1468011| 3.617865085248332|\n",
      "|  54190|             3.175|\n",
      "|   4935|3.1809296622875527|\n",
      "|  77234| 2.857900845501748|\n",
      "|  96044|3.5194805194805197|\n",
      "| 137501| 3.392857142857143|\n",
      "|  16861| 2.758401760038804|\n",
      "|1539681| 3.790260404374164|\n",
      "|  42373|  2.97196261682243|\n",
      "|  33722|2.4183381088825215|\n",
      "|   1088|3.0361702127659576|\n",
      "|  49855|3.0555555555555554|\n",
      "|   4818|3.1184075420129953|\n",
      "|  12799| 2.084072104018913|\n",
      "+-------+------------------+\n",
      "only showing top 20 rows\n",
      "\n"
     ]
    },
    {
     "name": "stderr",
     "output_type": "stream",
     "text": [
      "\r",
      "                                                                                \r"
     ]
    }
   ],
   "source": [
    "cast_name_with_rating = cast_name_df\\\n",
    "                        .join(ratings_df,\\\n",
    "                        cast_name_df.movieId == ratings_df.movieId,\"inner\")\\\n",
    "                        .groupBy(\"castId\")\\\n",
    "                        .avg(\"rating\")\\\n",
    "                        .withColumnRenamed(\"avg(rating)\", \"rating\")\n",
    "cast_name_with_rating.show()"
   ]
  },
  {
   "cell_type": "code",
   "execution_count": 130,
   "id": "346e6253",
   "metadata": {},
   "outputs": [
    {
     "name": "stderr",
     "output_type": "stream",
     "text": [
      "                                                                                \r"
     ]
    },
    {
     "data": {
      "text/plain": [
       "12335"
      ]
     },
     "execution_count": 130,
     "metadata": {},
     "output_type": "execute_result"
    }
   ],
   "source": [
    "cast_name_with_rating.count()"
   ]
  }
 ],
 "metadata": {
  "kernelspec": {
   "display_name": "Python 3 (ipykernel)",
   "language": "python",
   "name": "python3"
  },
  "language_info": {
   "codemirror_mode": {
    "name": "ipython",
    "version": 3
   },
   "file_extension": ".py",
   "mimetype": "text/x-python",
   "name": "python",
   "nbconvert_exporter": "python",
   "pygments_lexer": "ipython3",
   "version": "3.9.13"
  }
 },
 "nbformat": 4,
 "nbformat_minor": 5
}
