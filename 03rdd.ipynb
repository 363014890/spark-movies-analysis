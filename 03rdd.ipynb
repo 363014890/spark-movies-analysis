{
 "cells": [
  {
   "cell_type": "code",
   "execution_count": null,
   "id": "67785b9d",
   "metadata": {},
   "outputs": [],
   "source": [
    "import findspark\n",
    "\n",
    "findspark.init(spark_home='/Users/zhanghousu/spark/spark-3.3.1-bin-hadoop2',\n",
    "                python_path='/Users/zhanghousu/conda/bin/python')\n",
    "\n",
    "from pyspark import SparkContext\n",
    "sc = SparkContext()"
   ]
  },
  {
   "cell_type": "code",
   "execution_count": null,
   "id": "e3090323",
   "metadata": {},
   "outputs": [],
   "source": [
    "# read file\n",
    "lines = sc.textFile(\"movie/ratings.csv\")\n",
    "\n",
    "header = lines.first()\n",
    "lines = lines.filter(lambda line: line != header)\n",
    "\n",
    "# extract (movieId, rating)\n",
    "movie_ratings = lines.map(lambda x: (int(x.split(',')[1]), float(x.split(',')[2])))\n",
    "\n",
    "# group by movieId\n",
    "grouped_ratings = movie_ratings.groupByKey()\n",
    "\n",
    "# calculate average rating\n",
    "avg_ratings = grouped_ratings.mapValues(lambda x: sum(x) / len(x))\n",
    "\n",
    "# order by average rating\n",
    "sorted_avg_ratings = avg_ratings.sortBy(lambda x: x[1], ascending=False)\n",
    "\n",
    "# print top 10\n",
    "results = sorted_avg_ratings.collect()\n",
    "\n",
    "# for result in results:\n",
    "#     print(\"MovieId: {}, Avg Rating: {:.2f}\".format(result[0], result[1]))\n"
   ]
  },
  {
   "cell_type": "code",
   "execution_count": null,
   "id": "86c8298c",
   "metadata": {},
   "outputs": [],
   "source": [
    "perfect_ratings = avg_ratings.filter(lambda x: x[1] >= 3.5)\n",
    "\n",
    "# Collect results and print\n",
    "five_score = perfect_ratings.collect()\n"
   ]
  },
  {
   "cell_type": "code",
   "execution_count": null,
   "id": "72612ae6",
   "metadata": {},
   "outputs": [],
   "source": [
    "# for result in five_score:\n",
    "from pyspark.sql import SparkSession\n",
    "spark = SparkSession(sc)\n",
    "perfect_ratings_df = spark.createDataFrame(five_score, schema=[\"movieId\", \"avg_rating\"])\n",
    "perfect_ratings_df.show(5)"
   ]
  },
  {
   "cell_type": "code",
   "execution_count": null,
   "id": "c505ce9c",
   "metadata": {},
   "outputs": [],
   "source": [
    "# read file\n",
    "movi_df = spark.read.csv('movie/movies_metadata.csv', header=True, escape='\"')\n",
    "movi_df.show(10)"
   ]
  },
  {
   "cell_type": "code",
   "execution_count": null,
   "id": "a6f20046",
   "metadata": {},
   "outputs": [],
   "source": [
    "movi_df = movi_df[\"id\",\"genres\"]\n",
    "movi_df.show(5)"
   ]
  },
  {
   "cell_type": "code",
   "execution_count": null,
   "id": "b39c9e09",
   "metadata": {},
   "outputs": [],
   "source": [
    "movi_df = movi_df.withColumnRenamed(\"id\", \"movieId\")\n",
    "movi_df = movi_df.drop(\"id\")\n",
    "movi_df.show(5)"
   ]
  },
  {
   "cell_type": "code",
   "execution_count": null,
   "id": "5c45a951",
   "metadata": {},
   "outputs": [],
   "source": [
    "from pyspark.sql.functions import from_json, col, explode, \\\n",
    "    get_json_object, regexp_replace, array\n",
    "from pyspark.sql.types import StructType, StructField, \\\n",
    "    StringType, IntegerType, ArrayType, MapType, DoubleType\n",
    "\n",
    "json_schema = ArrayType(StructType([\n",
    "    StructField(\"id\", IntegerType(), True),\n",
    "    StructField(\"name\", StringType(), True)\n",
    "]))\n",
    "\n",
    "mv_ges = movi_df.withColumn('genres', regexp_replace(\"genres\", 'None', \"'None'\"))\n",
    "mv_ges = mv_ges.withColumn(\"genres_array\", from_json(col(\"genres\"), json_schema))\n",
    "\n",
    "# explode\n",
    "mv_ges = mv_ges.select(col(\"movieId\"), explode(col(\"genres_array\")).alias(\"genres_item\"))\n",
    "\n",
    "# extract\n",
    "mv_ges_df = mv_ges.withColumn(\"genre_name\", col(\"genres_item\")[\"name\"]) \\\n",
    "    .drop('genres_item')\n",
    "\n",
    "mv_ges_df.show(5)\n"
   ]
  },
  {
   "cell_type": "code",
   "execution_count": null,
   "id": "32569ff4",
   "metadata": {},
   "outputs": [],
   "source": [
    "# join two dataframe\n",
    "joined_df = perfect_ratings_df.join(mv_ges_df, on=\"movieId\", how=\"inner\")\n",
    "joined_df = joined_df.drop(\"avg_rating\")\n",
    "joined_df.show(5)\n"
   ]
  },
  {
   "cell_type": "code",
   "execution_count": null,
   "id": "ecdac8f3",
   "metadata": {},
   "outputs": [],
   "source": [
    "%pip install wheel setuptools --upgrade\n"
   ]
  },
  {
   "cell_type": "code",
   "execution_count": null,
   "id": "860d3771",
   "metadata": {},
   "outputs": [],
   "source": [
    "%pip install wordcloud==1.8.1 "
   ]
  },
  {
   "cell_type": "code",
   "execution_count": null,
   "id": "f97d8b2d",
   "metadata": {},
   "outputs": [],
   "source": [
    "from wordcloud import WordCloud\n",
    "import matplotlib.pyplot as plt\n",
    "\n",
    "# 将DataFrame的genre_name列转换为一个Python列表\n",
    "genre_name_list = joined_df.select(\"genre_name\").rdd.flatMap(lambda x: x).collect()\n",
    "\n",
    "# 将列表转换为单个字符串，用空格分隔每个genre_name\n",
    "genre_name_text = \" \".join(genre_name_list)\n",
    "\n",
    "# 生成词云\n",
    "wordcloud = WordCloud(background_color=\"white\", width=800, height=800, margin=2).generate(genre_name_text)\n",
    "\n",
    "# 显示词云\n",
    "plt.imshow(wordcloud, interpolation=\"bilinear\")\n",
    "plt.axis(\"off\")\n",
    "plt.show()\n"
   ]
  },
  {
   "cell_type": "code",
   "execution_count": null,
   "id": "59095ca8",
   "metadata": {},
   "outputs": [],
   "source": []
  },
  {
   "cell_type": "code",
   "execution_count": null,
   "id": "45c73777",
   "metadata": {},
   "outputs": [],
   "source": []
  },
  {
   "cell_type": "code",
   "execution_count": null,
   "id": "cf208f5c",
   "metadata": {},
   "outputs": [],
   "source": []
  },
  {
   "cell_type": "code",
   "execution_count": null,
   "id": "4d0ef2fd",
   "metadata": {},
   "outputs": [],
   "source": []
  }
 ],
 "metadata": {
  "kernelspec": {
   "display_name": "Python 3 (ipykernel)",
   "language": "python",
   "name": "python3"
  },
  "language_info": {
   "codemirror_mode": {
    "name": "ipython",
    "version": 3
   },
   "file_extension": ".py",
   "mimetype": "text/x-python",
   "name": "python",
   "nbconvert_exporter": "python",
   "pygments_lexer": "ipython3",
   "version": "3.9.13"
  }
 },
 "nbformat": 4,
 "nbformat_minor": 5
}
