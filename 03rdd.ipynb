{
 "cells": [
  {
   "cell_type": "code",
   "execution_count": 1,
   "id": "67785b9d",
   "metadata": {},
   "outputs": [
    {
     "name": "stdout",
     "output_type": "stream",
     "text": [
      "23/04/29 15:51:38 WARN Utils: Your hostname, MacBook-Pro-279.local resolves to a loopback address: 127.0.0.1; using 10.79.140.225 instead (on interface en0)\n",
      "23/04/29 15:51:38 WARN Utils: Set SPARK_LOCAL_IP if you need to bind to another address\n"
     ]
    },
    {
     "name": "stderr",
     "output_type": "stream",
     "text": [
      "Setting default log level to \"WARN\".\n",
      "To adjust logging level use sc.setLogLevel(newLevel). For SparkR, use setLogLevel(newLevel).\n"
     ]
    },
    {
     "name": "stdout",
     "output_type": "stream",
     "text": [
      "23/04/29 15:51:39 WARN NativeCodeLoader: Unable to load native-hadoop library for your platform... using builtin-java classes where applicable\n",
      "23/04/29 15:51:40 WARN Utils: Service 'SparkUI' could not bind on port 4040. Attempting port 4041.\n",
      "23/04/29 15:51:40 WARN Utils: Service 'SparkUI' could not bind on port 4041. Attempting port 4042.\n",
      "23/04/29 15:51:40 WARN Utils: Service 'SparkUI' could not bind on port 4042. Attempting port 4043.\n",
      "23/04/29 15:51:40 WARN Utils: Service 'SparkUI' could not bind on port 4043. Attempting port 4044.\n"
     ]
    }
   ],
   "source": [
    "import findspark\n",
    "\n",
    "findspark.init(spark_home='/Users/zhanghousu/spark/spark-3.3.1-bin-hadoop2',\n",
    "                python_path='/Users/zhanghousu/conda/bin/python')\n",
    "\n",
    "from pyspark import SparkContext\n",
    "sc = SparkContext()"
   ]
  },
  {
   "cell_type": "code",
   "execution_count": 2,
   "id": "e3090323",
   "metadata": {},
   "outputs": [
    {
     "name": "stderr",
     "output_type": "stream",
     "text": [
      "                                                                                \r"
     ]
    }
   ],
   "source": [
    "# read file\n",
    "lines = sc.textFile(\"movie/ratings.csv\")\n",
    "\n",
    "header = lines.first()\n",
    "lines = lines.filter(lambda line: line != header)\n",
    "\n",
    "# extract (movieId, rating)\n",
    "movie_ratings = lines.map(lambda x: (int(x.split(',')[1]), float(x.split(',')[2])))\n",
    "\n",
    "# group by movieId\n",
    "grouped_ratings = movie_ratings.groupByKey()\n",
    "\n",
    "# calculate average rating\n",
    "avg_ratings = grouped_ratings.mapValues(lambda x: sum(x) / len(x))\n",
    "\n",
    "# order by average rating\n",
    "sorted_avg_ratings = avg_ratings.sortBy(lambda x: x[1], ascending=False)\n",
    "\n",
    "# print top 10\n",
    "results = sorted_avg_ratings.collect()\n",
    "\n",
    "# for result in results:\n",
    "#     print(\"MovieId: {}, Avg Rating: {:.2f}\".format(result[0], result[1]))\n"
   ]
  },
  {
   "cell_type": "code",
   "execution_count": 3,
   "id": "86c8298c",
   "metadata": {},
   "outputs": [],
   "source": [
    "perfect_ratings = avg_ratings.filter(lambda x: x[1] >= 3.5)\n",
    "\n",
    "# Collect results and print\n",
    "five_score = perfect_ratings.collect()\n"
   ]
  },
  {
   "cell_type": "code",
   "execution_count": 4,
   "id": "72612ae6",
   "metadata": {},
   "outputs": [
    {
     "name": "stdout",
     "output_type": "stream",
     "text": [
      "+-------+------------------+\n",
      "|movieId|        avg_rating|\n",
      "+-------+------------------+\n",
      "|    110| 4.016057252826558|\n",
      "|    858| 4.339810758717364|\n",
      "|  91542| 3.738952195664258|\n",
      "| 112552| 4.120283855706682|\n",
      "|   1210|3.9896115699843735|\n",
      "+-------+------------------+\n",
      "only showing top 5 rows\n",
      "\n"
     ]
    }
   ],
   "source": [
    "# for result in five_score:\n",
    "from pyspark.sql import SparkSession\n",
    "spark = SparkSession(sc)\n",
    "perfect_ratings_df = spark.createDataFrame(five_score, schema=[\"movieId\", \"avg_rating\"])\n",
    "perfect_ratings_df.show(5)"
   ]
  },
  {
   "cell_type": "code",
   "execution_count": 5,
   "id": "c505ce9c",
   "metadata": {},
   "outputs": [
    {
     "name": "stdout",
     "output_type": "stream",
     "text": [
      "+-----+---------------------+--------+--------------------+--------------------+-----+---------+-----------------+--------------------+--------------------+----------+--------------------+--------------------+--------------------+------------+---------+-------+--------------------+--------+--------------------+--------------------+-----+------------+----------+\n",
      "|adult|belongs_to_collection|  budget|              genres|            homepage|   id|  imdb_id|original_language|      original_title|            overview|popularity|         poster_path|production_companies|production_countries|release_date|  revenue|runtime|    spoken_languages|  status|             tagline|               title|video|vote_average|vote_count|\n",
      "+-----+---------------------+--------+--------------------+--------------------+-----+---------+-----------------+--------------------+--------------------+----------+--------------------+--------------------+--------------------+------------+---------+-------+--------------------+--------+--------------------+--------------------+-----+------------+----------+\n",
      "|False| {'id': 10194, 'na...|30000000|[{'id': 16, 'name...|http://toystory.d...|  862|tt0114709|               en|           Toy Story|Led by Woody, And...| 21.946943|/rhIRbceoE9lR4veE...|[{'name': 'Pixar ...|[{'iso_3166_1': '...|  1995-10-30|373554033|   81.0|[{'iso_639_1': 'e...|Released|                null|           Toy Story|False|         7.7|      5415|\n",
      "|False|                 null|65000000|[{'id': 12, 'name...|                null| 8844|tt0113497|               en|             Jumanji|When siblings Jud...| 17.015539|/vzmL6fP7aPKNKPRT...|[{'name': 'TriSta...|[{'iso_3166_1': '...|  1995-12-15|262797249|  104.0|[{'iso_639_1': 'e...|Released|Roll the dice and...|             Jumanji|False|         6.9|      2413|\n",
      "|False| {'id': 119050, 'n...|       0|[{'id': 10749, 'n...|                null|15602|tt0113228|               en|    Grumpier Old Men|A family wedding ...|   11.7129|/6ksm1sjKMFLbO7UY...|[{'name': 'Warner...|[{'iso_3166_1': '...|  1995-12-22|        0|  101.0|[{'iso_639_1': 'e...|Released|Still Yelling. St...|    Grumpier Old Men|False|         6.5|        92|\n",
      "|False|                 null|16000000|[{'id': 35, 'name...|                null|31357|tt0114885|               en|   Waiting to Exhale|Cheated on, mistr...|  3.859495|/16XOMpEaLWkrcPqS...|[{'name': 'Twenti...|[{'iso_3166_1': '...|  1995-12-22| 81452156|  127.0|[{'iso_639_1': 'e...|Released|Friends are the p...|   Waiting to Exhale|False|         6.1|        34|\n",
      "|False| {'id': 96871, 'na...|       0|[{'id': 35, 'name...|                null|11862|tt0113041|               en|Father of the Bri...|Just when George ...|  8.387519|/e64sOI48hQXyru7n...|[{'name': 'Sandol...|[{'iso_3166_1': '...|  1995-02-10| 76578911|  106.0|[{'iso_639_1': 'e...|Released|Just When His Wor...|Father of the Bri...|False|         5.7|       173|\n",
      "|False|                 null|60000000|[{'id': 28, 'name...|                null|  949|tt0113277|               en|                Heat|Obsessive master ...| 17.924927|/zMyfPUelumio3tiD...|[{'name': 'Regenc...|[{'iso_3166_1': '...|  1995-12-15|187436818|  170.0|[{'iso_639_1': 'e...|Released|A Los Angeles Cri...|                Heat|False|         7.7|      1886|\n",
      "|False|                 null|58000000|[{'id': 35, 'name...|                null|11860|tt0114319|               en|             Sabrina|An ugly duckling ...|  6.677277|/jQh15y5YB7bWz1Nt...|[{'name': 'Paramo...|[{'iso_3166_1': '...|  1995-12-15|        0|  127.0|[{'iso_639_1': 'f...|Released|You are cordially...|             Sabrina|False|         6.2|       141|\n",
      "|False|                 null|       0|[{'id': 28, 'name...|                null|45325|tt0112302|               en|        Tom and Huck|A mischievous you...|  2.561161|/sGO5Qa55p7wTu7FJ...|[{'name': 'Walt D...|[{'iso_3166_1': '...|  1995-12-22|        0|   97.0|[{'iso_639_1': 'e...|Released|The Original Bad ...|        Tom and Huck|False|         5.4|        45|\n",
      "|False|                 null|35000000|[{'id': 28, 'name...|                null| 9091|tt0114576|               en|        Sudden Death|International act...|   5.23158|/eoWvKD60lT95Ss1M...|[{'name': 'Univer...|[{'iso_3166_1': '...|  1995-12-22| 64350171|  106.0|[{'iso_639_1': 'e...|Released|Terror goes into ...|        Sudden Death|False|         5.5|       174|\n",
      "|False| {'id': 645, 'name...|58000000|[{'id': 12, 'name...|http://www.mgm.co...|  710|tt0113189|               en|           GoldenEye|James Bond must u...| 14.686036|/5c0ovjT41KnYIHYu...|[{'name': 'United...|[{'iso_3166_1': '...|  1995-11-16|352194034|  130.0|[{'iso_639_1': 'e...|Released|No limits. No fea...|           GoldenEye|False|         6.6|      1194|\n",
      "+-----+---------------------+--------+--------------------+--------------------+-----+---------+-----------------+--------------------+--------------------+----------+--------------------+--------------------+--------------------+------------+---------+-------+--------------------+--------+--------------------+--------------------+-----+------------+----------+\n",
      "only showing top 10 rows\n",
      "\n"
     ]
    }
   ],
   "source": [
    "# read file\n",
    "movi_df = spark.read.csv('movie/movies_metadata.csv', header=True, escape='\"')\n",
    "movi_df.show(10)"
   ]
  },
  {
   "cell_type": "code",
   "execution_count": 6,
   "id": "a6f20046",
   "metadata": {},
   "outputs": [
    {
     "name": "stdout",
     "output_type": "stream",
     "text": [
      "+-----+--------------------+\n",
      "|   id|              genres|\n",
      "+-----+--------------------+\n",
      "|  862|[{'id': 16, 'name...|\n",
      "| 8844|[{'id': 12, 'name...|\n",
      "|15602|[{'id': 10749, 'n...|\n",
      "|31357|[{'id': 35, 'name...|\n",
      "|11862|[{'id': 35, 'name...|\n",
      "+-----+--------------------+\n",
      "only showing top 5 rows\n",
      "\n"
     ]
    }
   ],
   "source": [
    "movi_df = movi_df[\"id\",\"genres\"]\n",
    "movi_df.show(5)"
   ]
  },
  {
   "cell_type": "code",
   "execution_count": 7,
   "id": "b39c9e09",
   "metadata": {},
   "outputs": [
    {
     "name": "stdout",
     "output_type": "stream",
     "text": [
      "+-------+--------------------+\n",
      "|movieId|              genres|\n",
      "+-------+--------------------+\n",
      "|    862|[{'id': 16, 'name...|\n",
      "|   8844|[{'id': 12, 'name...|\n",
      "|  15602|[{'id': 10749, 'n...|\n",
      "|  31357|[{'id': 35, 'name...|\n",
      "|  11862|[{'id': 35, 'name...|\n",
      "+-------+--------------------+\n",
      "only showing top 5 rows\n",
      "\n"
     ]
    }
   ],
   "source": [
    "movi_df = movi_df.withColumnRenamed(\"id\", \"movieId\")\n",
    "movi_df = movi_df.drop(\"id\")\n",
    "movi_df.show(5)"
   ]
  },
  {
   "cell_type": "code",
   "execution_count": 8,
   "id": "5c45a951",
   "metadata": {},
   "outputs": [
    {
     "name": "stdout",
     "output_type": "stream",
     "text": [
      "+-------+----------+\n",
      "|movieId|genre_name|\n",
      "+-------+----------+\n",
      "|    862| Animation|\n",
      "|    862|    Comedy|\n",
      "|    862|    Family|\n",
      "|   8844| Adventure|\n",
      "|   8844|   Fantasy|\n",
      "+-------+----------+\n",
      "only showing top 5 rows\n",
      "\n"
     ]
    }
   ],
   "source": [
    "from pyspark.sql.functions import from_json, col, explode, \\\n",
    "    get_json_object, regexp_replace, array\n",
    "from pyspark.sql.types import StructType, StructField, \\\n",
    "    StringType, IntegerType, ArrayType, MapType, DoubleType\n",
    "\n",
    "json_schema = ArrayType(StructType([\n",
    "    StructField(\"id\", IntegerType(), True),\n",
    "    StructField(\"name\", StringType(), True)\n",
    "]))\n",
    "\n",
    "mv_ges = movi_df.withColumn('genres', regexp_replace(\"genres\", 'None', \"'None'\"))\n",
    "mv_ges = mv_ges.withColumn(\"genres_array\", from_json(col(\"genres\"), json_schema))\n",
    "\n",
    "# explode\n",
    "mv_ges = mv_ges.select(col(\"movieId\"), explode(col(\"genres_array\")).alias(\"genres_item\"))\n",
    "\n",
    "# extract\n",
    "mv_ges_df = mv_ges.withColumn(\"genre_name\", col(\"genres_item\")[\"name\"]) \\\n",
    "    .drop('genres_item')\n",
    "\n",
    "mv_ges_df.show(5)\n"
   ]
  },
  {
   "cell_type": "code",
   "execution_count": 13,
   "id": "32569ff4",
   "metadata": {},
   "outputs": [
    {
     "name": "stdout",
     "output_type": "stream",
     "text": [
      "+-------+----------+\n",
      "|movieId|genre_name|\n",
      "+-------+----------+\n",
      "|    110|   Romance|\n",
      "|    110|   Mystery|\n",
      "|    110|     Drama|\n",
      "|    858|   Romance|\n",
      "|    858|     Drama|\n",
      "+-------+----------+\n",
      "only showing top 5 rows\n",
      "\n"
     ]
    }
   ],
   "source": [
    "# join two dataframe\n",
    "joined_df = perfect_ratings_df.join(mv_ges_df, on=\"movieId\", how=\"inner\")\n",
    "joined_df = joined_df.drop(\"avg_rating\")\n",
    "joined_df.show(5)\n"
   ]
  },
  {
   "cell_type": "code",
   "execution_count": 28,
   "id": "ecdac8f3",
   "metadata": {},
   "outputs": [
    {
     "name": "stdout",
     "output_type": "stream",
     "text": [
      "Requirement already satisfied: wheel in /Users/zhanghousu/conda/lib/python3.9/site-packages (0.37.1)\n",
      "Collecting wheel\n",
      "  Downloading wheel-0.40.0-py3-none-any.whl (64 kB)\n",
      "\u001b[2K     \u001b[90m━━━━━━━━━━━━━━━━━━━━━━━━━━━━━━━━━━━━━━━━\u001b[0m \u001b[32m64.5/64.5 kB\u001b[0m \u001b[31m3.9 MB/s\u001b[0m eta \u001b[36m0:00:00\u001b[0m\n",
      "\u001b[?25hRequirement already satisfied: setuptools in /Users/zhanghousu/conda/lib/python3.9/site-packages (63.4.1)\n",
      "Collecting setuptools\n",
      "  Downloading setuptools-67.7.2-py3-none-any.whl (1.1 MB)\n",
      "\u001b[2K     \u001b[90m━━━━━━━━━━━━━━━━━━━━━━━━━━━━━━━━━━━━━━━━\u001b[0m \u001b[32m1.1/1.1 MB\u001b[0m \u001b[31m13.7 MB/s\u001b[0m eta \u001b[36m0:00:00\u001b[0m00:01\u001b[0m00:01\u001b[0m\n",
      "\u001b[?25hInstalling collected packages: wheel, setuptools\n",
      "  Attempting uninstall: wheel\n",
      "    Found existing installation: wheel 0.37.1\n",
      "    Uninstalling wheel-0.37.1:\n",
      "      Successfully uninstalled wheel-0.37.1\n",
      "  Attempting uninstall: setuptools\n",
      "    Found existing installation: setuptools 63.4.1\n",
      "    Uninstalling setuptools-63.4.1:\n",
      "      Successfully uninstalled setuptools-63.4.1\n",
      "\u001b[31mERROR: pip's dependency resolver does not currently take into account all the packages that are installed. This behaviour is the source of the following dependency conflicts.\n",
      "anaconda-project 0.11.1 requires ruamel-yaml, which is not installed.\n",
      "conda-repo-cli 1.0.20 requires clyent==1.2.1, but you have clyent 1.2.2 which is incompatible.\n",
      "conda-repo-cli 1.0.20 requires nbformat==5.4.0, but you have nbformat 5.5.0 which is incompatible.\u001b[0m\u001b[31m\n",
      "\u001b[0mSuccessfully installed setuptools-67.7.2 wheel-0.40.0\n",
      "Note: you may need to restart the kernel to use updated packages.\n"
     ]
    }
   ],
   "source": [
    "%pip install wheel setuptools --upgrade\n"
   ]
  },
  {
   "cell_type": "code",
   "execution_count": 33,
   "id": "860d3771",
   "metadata": {},
   "outputs": [
    {
     "name": "stdout",
     "output_type": "stream",
     "text": [
      "Collecting wordcloud==1.8.1\n",
      "  Downloading wordcloud-1.8.1.tar.gz (220 kB)\n",
      "\u001b[2K     \u001b[90m━━━━━━━━━━━━━━━━━━━━━━━━━━━━━━━━━━━━━━━\u001b[0m \u001b[32m220.7/220.7 kB\u001b[0m \u001b[31m9.2 MB/s\u001b[0m eta \u001b[36m0:00:00\u001b[0m\n",
      "\u001b[?25h  Preparing metadata (setup.py) ... \u001b[?25ldone\n",
      "\u001b[?25hRequirement already satisfied: numpy>=1.6.1 in /Users/zhanghousu/conda/lib/python3.9/site-packages (from wordcloud==1.8.1) (1.21.5)\n",
      "Requirement already satisfied: pillow in /Users/zhanghousu/conda/lib/python3.9/site-packages (from wordcloud==1.8.1) (9.2.0)\n",
      "Requirement already satisfied: matplotlib in /Users/zhanghousu/conda/lib/python3.9/site-packages (from wordcloud==1.8.1) (3.5.2)\n",
      "Requirement already satisfied: cycler>=0.10 in /Users/zhanghousu/conda/lib/python3.9/site-packages (from matplotlib->wordcloud==1.8.1) (0.11.0)\n",
      "Requirement already satisfied: fonttools>=4.22.0 in /Users/zhanghousu/conda/lib/python3.9/site-packages (from matplotlib->wordcloud==1.8.1) (4.25.0)\n",
      "Requirement already satisfied: kiwisolver>=1.0.1 in /Users/zhanghousu/conda/lib/python3.9/site-packages (from matplotlib->wordcloud==1.8.1) (1.4.2)\n",
      "Requirement already satisfied: packaging>=20.0 in /Users/zhanghousu/conda/lib/python3.9/site-packages (from matplotlib->wordcloud==1.8.1) (21.3)\n",
      "Requirement already satisfied: pyparsing>=2.2.1 in /Users/zhanghousu/conda/lib/python3.9/site-packages (from matplotlib->wordcloud==1.8.1) (3.0.9)\n",
      "Requirement already satisfied: python-dateutil>=2.7 in /Users/zhanghousu/conda/lib/python3.9/site-packages (from matplotlib->wordcloud==1.8.1) (2.8.2)\n",
      "Requirement already satisfied: six>=1.5 in /Users/zhanghousu/conda/lib/python3.9/site-packages (from python-dateutil>=2.7->matplotlib->wordcloud==1.8.1) (1.16.0)\n",
      "Building wheels for collected packages: wordcloud\n",
      "  Building wheel for wordcloud (setup.py) ... \u001b[?25lerror\n",
      "  \u001b[1;31merror\u001b[0m: \u001b[1msubprocess-exited-with-error\u001b[0m\n",
      "  \n",
      "  \u001b[31m×\u001b[0m \u001b[32mpython setup.py bdist_wheel\u001b[0m did not run successfully.\n",
      "  \u001b[31m│\u001b[0m exit code: \u001b[1;36m1\u001b[0m\n",
      "  \u001b[31m╰─>\u001b[0m \u001b[31m[121 lines of output]\u001b[0m\n",
      "  \u001b[31m   \u001b[0m running bdist_wheel\n",
      "  \u001b[31m   \u001b[0m running build\n",
      "  \u001b[31m   \u001b[0m running build_py\n",
      "  \u001b[31m   \u001b[0m creating build\n",
      "  \u001b[31m   \u001b[0m creating build/lib.macosx-11.1-arm64-cpython-39\n",
      "  \u001b[31m   \u001b[0m creating build/lib.macosx-11.1-arm64-cpython-39/wordcloud\n",
      "  \u001b[31m   \u001b[0m copying wordcloud/wordcloud_cli.py -> build/lib.macosx-11.1-arm64-cpython-39/wordcloud\n",
      "  \u001b[31m   \u001b[0m copying wordcloud/_version.py -> build/lib.macosx-11.1-arm64-cpython-39/wordcloud\n",
      "  \u001b[31m   \u001b[0m copying wordcloud/__init__.py -> build/lib.macosx-11.1-arm64-cpython-39/wordcloud\n",
      "  \u001b[31m   \u001b[0m copying wordcloud/tokenization.py -> build/lib.macosx-11.1-arm64-cpython-39/wordcloud\n",
      "  \u001b[31m   \u001b[0m copying wordcloud/wordcloud.py -> build/lib.macosx-11.1-arm64-cpython-39/wordcloud\n",
      "  \u001b[31m   \u001b[0m copying wordcloud/color_from_image.py -> build/lib.macosx-11.1-arm64-cpython-39/wordcloud\n",
      "  \u001b[31m   \u001b[0m copying wordcloud/__main__.py -> build/lib.macosx-11.1-arm64-cpython-39/wordcloud\n",
      "  \u001b[31m   \u001b[0m copying wordcloud/stopwords -> build/lib.macosx-11.1-arm64-cpython-39/wordcloud\n",
      "  \u001b[31m   \u001b[0m copying wordcloud/DroidSansMono.ttf -> build/lib.macosx-11.1-arm64-cpython-39/wordcloud\n",
      "  \u001b[31m   \u001b[0m UPDATING build/lib.macosx-11.1-arm64-cpython-39/wordcloud/_version.py\n",
      "  \u001b[31m   \u001b[0m set build/lib.macosx-11.1-arm64-cpython-39/wordcloud/_version.py to '1.8.1'\n",
      "  \u001b[31m   \u001b[0m running build_ext\n",
      "  \u001b[31m   \u001b[0m building 'wordcloud.query_integral_image' extension\n",
      "  \u001b[31m   \u001b[0m creating build/temp.macosx-11.1-arm64-cpython-39\n",
      "  \u001b[31m   \u001b[0m creating build/temp.macosx-11.1-arm64-cpython-39/wordcloud\n",
      "  \u001b[31m   \u001b[0m clang -Wno-unused-result -Wsign-compare -Wunreachable-code -DNDEBUG -fwrapv -O2 -Wall -fPIC -O2 -isystem /Users/zhanghousu/conda/include -arch arm64 -I/Users/zhanghousu/conda/include -fPIC -O2 -isystem /Users/zhanghousu/conda/include -arch arm64 -I/Users/zhanghousu/conda/include/python3.9 -c wordcloud/query_integral_image.c -o build/temp.macosx-11.1-arm64-cpython-39/wordcloud/query_integral_image.o\n",
      "  \u001b[31m   \u001b[0m In file included from wordcloud/query_integral_image.c:4:\n",
      "  \u001b[31m   \u001b[0m In file included from /Users/zhanghousu/conda/include/python3.9/Python.h:11:\n",
      "  \u001b[31m   \u001b[0m In file included from /Library/Developer/CommandLineTools/usr/lib/clang/12.0.0/include/limits.h:21:\n",
      "  \u001b[31m   \u001b[0m In file included from /Library/Developer/CommandLineTools/SDKs/MacOSX.sdk/usr/include/limits.h:63:\n",
      "  \u001b[31m   \u001b[0m /Library/Developer/CommandLineTools/SDKs/MacOSX.sdk/usr/include/sys/cdefs.h:807:2: error: Unsupported architecture\n",
      "  \u001b[31m   \u001b[0m #error Unsupported architecture\n",
      "  \u001b[31m   \u001b[0m  ^\n",
      "  \u001b[31m   \u001b[0m In file included from wordcloud/query_integral_image.c:4:\n",
      "  \u001b[31m   \u001b[0m In file included from /Users/zhanghousu/conda/include/python3.9/Python.h:11:\n",
      "  \u001b[31m   \u001b[0m In file included from /Library/Developer/CommandLineTools/usr/lib/clang/12.0.0/include/limits.h:21:\n",
      "  \u001b[31m   \u001b[0m In file included from /Library/Developer/CommandLineTools/SDKs/MacOSX.sdk/usr/include/limits.h:64:\n",
      "  \u001b[31m   \u001b[0m /Library/Developer/CommandLineTools/SDKs/MacOSX.sdk/usr/include/machine/limits.h:8:2: error: architecture not supported\n",
      "  \u001b[31m   \u001b[0m #error architecture not supported\n",
      "  \u001b[31m   \u001b[0m  ^\n",
      "  \u001b[31m   \u001b[0m In file included from wordcloud/query_integral_image.c:4:\n",
      "  \u001b[31m   \u001b[0m In file included from /Users/zhanghousu/conda/include/python3.9/Python.h:25:\n",
      "  \u001b[31m   \u001b[0m In file included from /Library/Developer/CommandLineTools/SDKs/MacOSX.sdk/usr/include/stdio.h:64:\n",
      "  \u001b[31m   \u001b[0m In file included from /Library/Developer/CommandLineTools/SDKs/MacOSX.sdk/usr/include/_stdio.h:71:\n",
      "  \u001b[31m   \u001b[0m In file included from /Library/Developer/CommandLineTools/SDKs/MacOSX.sdk/usr/include/_types.h:27:\n",
      "  \u001b[31m   \u001b[0m In file included from /Library/Developer/CommandLineTools/SDKs/MacOSX.sdk/usr/include/sys/_types.h:33:\n",
      "  \u001b[31m   \u001b[0m /Library/Developer/CommandLineTools/SDKs/MacOSX.sdk/usr/include/machine/_types.h:34:2: error: architecture not supported\n",
      "  \u001b[31m   \u001b[0m #error architecture not supported\n",
      "  \u001b[31m   \u001b[0m  ^\n",
      "  \u001b[31m   \u001b[0m In file included from wordcloud/query_integral_image.c:4:\n",
      "  \u001b[31m   \u001b[0m In file included from /Users/zhanghousu/conda/include/python3.9/Python.h:25:\n",
      "  \u001b[31m   \u001b[0m In file included from /Library/Developer/CommandLineTools/SDKs/MacOSX.sdk/usr/include/stdio.h:64:\n",
      "  \u001b[31m   \u001b[0m In file included from /Library/Developer/CommandLineTools/SDKs/MacOSX.sdk/usr/include/_stdio.h:71:\n",
      "  \u001b[31m   \u001b[0m In file included from /Library/Developer/CommandLineTools/SDKs/MacOSX.sdk/usr/include/_types.h:27:\n",
      "  \u001b[31m   \u001b[0m /Library/Developer/CommandLineTools/SDKs/MacOSX.sdk/usr/include/sys/_types.h:55:9: error: unknown type name '__int64_t'\n",
      "  \u001b[31m   \u001b[0m typedef __int64_t       __darwin_blkcnt_t;      /* total blocks */\n",
      "  \u001b[31m   \u001b[0m         ^\n",
      "  \u001b[31m   \u001b[0m /Library/Developer/CommandLineTools/SDKs/MacOSX.sdk/usr/include/sys/_types.h:56:9: error: unknown type name '__int32_t'; did you mean '__int128_t'?\n",
      "  \u001b[31m   \u001b[0m typedef __int32_t       __darwin_blksize_t;     /* preferred block size */\n",
      "  \u001b[31m   \u001b[0m         ^\n",
      "  \u001b[31m   \u001b[0m note: '__int128_t' declared here\n",
      "  \u001b[31m   \u001b[0m /Library/Developer/CommandLineTools/SDKs/MacOSX.sdk/usr/include/sys/_types.h:57:9: error: unknown type name '__int32_t'; did you mean '__int128_t'?\n",
      "  \u001b[31m   \u001b[0m typedef __int32_t       __darwin_dev_t;         /* dev_t */\n",
      "  \u001b[31m   \u001b[0m         ^\n",
      "  \u001b[31m   \u001b[0m note: '__int128_t' declared here\n",
      "  \u001b[31m   \u001b[0m /Library/Developer/CommandLineTools/SDKs/MacOSX.sdk/usr/include/sys/_types.h:60:9: error: unknown type name '__uint32_t'; did you mean '__uint128_t'?\n",
      "  \u001b[31m   \u001b[0m typedef __uint32_t      __darwin_gid_t;         /* [???] process and group IDs */\n",
      "  \u001b[31m   \u001b[0m         ^\n",
      "  \u001b[31m   \u001b[0m note: '__uint128_t' declared here\n",
      "  \u001b[31m   \u001b[0m /Library/Developer/CommandLineTools/SDKs/MacOSX.sdk/usr/include/sys/_types.h:61:9: error: unknown type name '__uint32_t'; did you mean '__uint128_t'?\n",
      "  \u001b[31m   \u001b[0m typedef __uint32_t      __darwin_id_t;          /* [XSI] pid_t, uid_t, or gid_t*/\n",
      "  \u001b[31m   \u001b[0m         ^\n",
      "  \u001b[31m   \u001b[0m note: '__uint128_t' declared here\n",
      "  \u001b[31m   \u001b[0m /Library/Developer/CommandLineTools/SDKs/MacOSX.sdk/usr/include/sys/_types.h:62:9: error: unknown type name '__uint64_t'\n",
      "  \u001b[31m   \u001b[0m typedef __uint64_t      __darwin_ino64_t;       /* [???] Used for 64 bit inodes */\n",
      "  \u001b[31m   \u001b[0m         ^\n",
      "  \u001b[31m   \u001b[0m /Library/Developer/CommandLineTools/SDKs/MacOSX.sdk/usr/include/sys/_types.h:68:9: error: unknown type name '__darwin_natural_t'\n",
      "  \u001b[31m   \u001b[0m typedef __darwin_natural_t __darwin_mach_port_name_t; /* Used by mach */\n",
      "  \u001b[31m   \u001b[0m         ^\n",
      "  \u001b[31m   \u001b[0m /Library/Developer/CommandLineTools/SDKs/MacOSX.sdk/usr/include/sys/_types.h:70:9: error: unknown type name '__uint16_t'; did you mean '__uint128_t'?\n",
      "  \u001b[31m   \u001b[0m typedef __uint16_t      __darwin_mode_t;        /* [???] Some file attributes */\n",
      "  \u001b[31m   \u001b[0m         ^\n",
      "  \u001b[31m   \u001b[0m note: '__uint128_t' declared here\n",
      "  \u001b[31m   \u001b[0m /Library/Developer/CommandLineTools/SDKs/MacOSX.sdk/usr/include/sys/_types.h:71:9: error: unknown type name '__int64_t'\n",
      "  \u001b[31m   \u001b[0m typedef __int64_t       __darwin_off_t;         /* [???] Used for file sizes */\n",
      "  \u001b[31m   \u001b[0m         ^\n",
      "  \u001b[31m   \u001b[0m /Library/Developer/CommandLineTools/SDKs/MacOSX.sdk/usr/include/sys/_types.h:72:9: error: unknown type name '__int32_t'; did you mean '__int128_t'?\n",
      "  \u001b[31m   \u001b[0m typedef __int32_t       __darwin_pid_t;         /* [???] process and group IDs */\n",
      "  \u001b[31m   \u001b[0m         ^\n",
      "  \u001b[31m   \u001b[0m note: '__int128_t' declared here\n",
      "  \u001b[31m   \u001b[0m /Library/Developer/CommandLineTools/SDKs/MacOSX.sdk/usr/include/sys/_types.h:73:9: error: unknown type name '__uint32_t'; did you mean '__uint128_t'?\n",
      "  \u001b[31m   \u001b[0m typedef __uint32_t      __darwin_sigset_t;      /* [???] signal set */\n",
      "  \u001b[31m   \u001b[0m         ^\n",
      "  \u001b[31m   \u001b[0m note: '__uint128_t' declared here\n",
      "  \u001b[31m   \u001b[0m /Library/Developer/CommandLineTools/SDKs/MacOSX.sdk/usr/include/sys/_types.h:74:9: error: unknown type name '__int32_t'; did you mean '__int128_t'?\n",
      "  \u001b[31m   \u001b[0m typedef __int32_t       __darwin_suseconds_t;   /* [???] microseconds */\n",
      "  \u001b[31m   \u001b[0m         ^\n",
      "  \u001b[31m   \u001b[0m note: '__int128_t' declared here\n",
      "  \u001b[31m   \u001b[0m /Library/Developer/CommandLineTools/SDKs/MacOSX.sdk/usr/include/sys/_types.h:75:9: error: unknown type name '__uint32_t'; did you mean '__uint128_t'?\n",
      "  \u001b[31m   \u001b[0m typedef __uint32_t      __darwin_uid_t;         /* [???] user IDs */\n",
      "  \u001b[31m   \u001b[0m         ^\n",
      "  \u001b[31m   \u001b[0m note: '__uint128_t' declared here\n",
      "  \u001b[31m   \u001b[0m /Library/Developer/CommandLineTools/SDKs/MacOSX.sdk/usr/include/sys/_types.h:76:9: error: unknown type name '__uint32_t'; did you mean '__uint128_t'?\n",
      "  \u001b[31m   \u001b[0m typedef __uint32_t      __darwin_useconds_t;    /* [???] microseconds */\n",
      "  \u001b[31m   \u001b[0m         ^\n",
      "  \u001b[31m   \u001b[0m note: '__uint128_t' declared here\n",
      "  \u001b[31m   \u001b[0m In file included from wordcloud/query_integral_image.c:4:\n",
      "  \u001b[31m   \u001b[0m In file included from /Users/zhanghousu/conda/include/python3.9/Python.h:25:\n",
      "  \u001b[31m   \u001b[0m In file included from /Library/Developer/CommandLineTools/SDKs/MacOSX.sdk/usr/include/stdio.h:64:\n",
      "  \u001b[31m   \u001b[0m In file included from /Library/Developer/CommandLineTools/SDKs/MacOSX.sdk/usr/include/_stdio.h:71:\n",
      "  \u001b[31m   \u001b[0m /Library/Developer/CommandLineTools/SDKs/MacOSX.sdk/usr/include/_types.h:43:9: error: unknown type name '__uint32_t'; did you mean '__uint128_t'?\n",
      "  \u001b[31m   \u001b[0m typedef __uint32_t      __darwin_wctype_t;\n",
      "  \u001b[31m   \u001b[0m         ^\n",
      "  \u001b[31m   \u001b[0m note: '__uint128_t' declared here\n",
      "  \u001b[31m   \u001b[0m In file included from wordcloud/query_integral_image.c:4:\n",
      "  \u001b[31m   \u001b[0m In file included from /Users/zhanghousu/conda/include/python3.9/Python.h:25:\n",
      "  \u001b[31m   \u001b[0m In file included from /Library/Developer/CommandLineTools/SDKs/MacOSX.sdk/usr/include/stdio.h:64:\n",
      "  \u001b[31m   \u001b[0m In file included from /Library/Developer/CommandLineTools/SDKs/MacOSX.sdk/usr/include/_stdio.h:75:\n",
      "  \u001b[31m   \u001b[0m In file included from /Library/Developer/CommandLineTools/SDKs/MacOSX.sdk/usr/include/sys/_types/_va_list.h:31:\n",
      "  \u001b[31m   \u001b[0m /Library/Developer/CommandLineTools/SDKs/MacOSX.sdk/usr/include/machine/types.h:37:2: error: architecture not supported\n",
      "  \u001b[31m   \u001b[0m #error architecture not supported\n",
      "  \u001b[31m   \u001b[0m  ^\n",
      "  \u001b[31m   \u001b[0m fatal error: too many errors emitted, stopping now [-ferror-limit=]\n",
      "  \u001b[31m   \u001b[0m 20 errors generated.\n",
      "  \u001b[31m   \u001b[0m error: command '/usr/bin/clang' failed with exit code 1\n",
      "  \u001b[31m   \u001b[0m \u001b[31m[end of output]\u001b[0m\n",
      "  \n",
      "  \u001b[1;35mnote\u001b[0m: This error originates from a subprocess, and is likely not a problem with pip.\n",
      "\u001b[31m  ERROR: Failed building wheel for wordcloud\u001b[0m\u001b[31m\n",
      "\u001b[0m\u001b[?25h  Running setup.py clean for wordcloud\n",
      "Failed to build wordcloud\n",
      "\u001b[31mERROR: Could not build wheels for wordcloud, which is required to install pyproject.toml-based projects\u001b[0m\u001b[31m\n",
      "\u001b[0mNote: you may need to restart the kernel to use updated packages.\n"
     ]
    }
   ],
   "source": [
    "%pip install wordcloud==1.8.1 "
   ]
  },
  {
   "cell_type": "code",
   "execution_count": 23,
   "id": "f97d8b2d",
   "metadata": {},
   "outputs": [
    {
     "ename": "ModuleNotFoundError",
     "evalue": "No module named 'wordcloud'",
     "output_type": "error",
     "traceback": [
      "\u001b[0;31m---------------------------------------------------------------------------\u001b[0m",
      "\u001b[0;31mModuleNotFoundError\u001b[0m                       Traceback (most recent call last)",
      "\u001b[1;32m/Users/zhanghousu/Desktop/PGT/5003/spark-movies-analysis/03rdd.ipynb 单元格 11\u001b[0m in \u001b[0;36m<cell line: 1>\u001b[0;34m()\u001b[0m\n\u001b[0;32m----> <a href='vscode-notebook-cell:/Users/zhanghousu/Desktop/PGT/5003/spark-movies-analysis/03rdd.ipynb#X23sZmlsZQ%3D%3D?line=0'>1</a>\u001b[0m \u001b[39mfrom\u001b[39;00m \u001b[39mwordcloud\u001b[39;00m \u001b[39mimport\u001b[39;00m WordCloud\n\u001b[1;32m      <a href='vscode-notebook-cell:/Users/zhanghousu/Desktop/PGT/5003/spark-movies-analysis/03rdd.ipynb#X23sZmlsZQ%3D%3D?line=1'>2</a>\u001b[0m \u001b[39mimport\u001b[39;00m \u001b[39mmatplotlib\u001b[39;00m\u001b[39m.\u001b[39;00m\u001b[39mpyplot\u001b[39;00m \u001b[39mas\u001b[39;00m \u001b[39mplt\u001b[39;00m\n\u001b[1;32m      <a href='vscode-notebook-cell:/Users/zhanghousu/Desktop/PGT/5003/spark-movies-analysis/03rdd.ipynb#X23sZmlsZQ%3D%3D?line=3'>4</a>\u001b[0m \u001b[39m# 将DataFrame的genre_name列转换为一个Python列表\u001b[39;00m\n",
      "\u001b[0;31mModuleNotFoundError\u001b[0m: No module named 'wordcloud'"
     ]
    }
   ],
   "source": [
    "from wordcloud import WordCloud\n",
    "import matplotlib.pyplot as plt\n",
    "\n",
    "# 将DataFrame的genre_name列转换为一个Python列表\n",
    "genre_name_list = joined_df.select(\"genre_name\").rdd.flatMap(lambda x: x).collect()\n",
    "\n",
    "# 将列表转换为单个字符串，用空格分隔每个genre_name\n",
    "genre_name_text = \" \".join(genre_name_list)\n",
    "\n",
    "# 生成词云\n",
    "wordcloud = WordCloud(background_color=\"white\", width=800, height=800, margin=2).generate(genre_name_text)\n",
    "\n",
    "# 显示词云\n",
    "plt.imshow(wordcloud, interpolation=\"bilinear\")\n",
    "plt.axis(\"off\")\n",
    "plt.show()\n"
   ]
  },
  {
   "cell_type": "code",
   "execution_count": null,
   "id": "59095ca8",
   "metadata": {},
   "outputs": [],
   "source": []
  },
  {
   "cell_type": "code",
   "execution_count": null,
   "id": "45c73777",
   "metadata": {},
   "outputs": [],
   "source": []
  },
  {
   "cell_type": "code",
   "execution_count": null,
   "id": "cf208f5c",
   "metadata": {},
   "outputs": [],
   "source": []
  },
  {
   "cell_type": "code",
   "execution_count": null,
   "id": "4d0ef2fd",
   "metadata": {},
   "outputs": [],
   "source": []
  }
 ],
 "metadata": {
  "kernelspec": {
   "display_name": "Python 3 (ipykernel)",
   "language": "python",
   "name": "python3"
  },
  "language_info": {
   "codemirror_mode": {
    "name": "ipython",
    "version": 3
   },
   "file_extension": ".py",
   "mimetype": "text/x-python",
   "name": "python",
   "nbconvert_exporter": "python",
   "pygments_lexer": "ipython3",
   "version": "3.9.13"
  }
 },
 "nbformat": 4,
 "nbformat_minor": 5
}
