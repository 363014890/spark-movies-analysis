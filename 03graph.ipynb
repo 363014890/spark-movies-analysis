{
 "cells": [
  {
   "cell_type": "code",
   "execution_count": 1,
   "id": "3bb76b90",
   "metadata": {},
   "outputs": [
    {
     "name": "stdout",
     "output_type": "stream",
     "text": [
      "23/05/01 21:35:45 WARN Utils: Your hostname, MacBook-Pro-279.local resolves to a loopback address: 127.0.0.1; using 192.168.1.17 instead (on interface en0)\n",
      "23/05/01 21:35:45 WARN Utils: Set SPARK_LOCAL_IP if you need to bind to another address\n"
     ]
    },
    {
     "name": "stderr",
     "output_type": "stream",
     "text": [
      "Setting default log level to \"WARN\".\n",
      "To adjust logging level use sc.setLogLevel(newLevel). For SparkR, use setLogLevel(newLevel).\n"
     ]
    },
    {
     "name": "stdout",
     "output_type": "stream",
     "text": [
      "23/05/01 21:35:46 WARN NativeCodeLoader: Unable to load native-hadoop library for your platform... using builtin-java classes where applicable\n",
      "23/05/01 21:35:47 WARN Utils: Service 'SparkUI' could not bind on port 4040. Attempting port 4041.\n",
      "23/05/01 21:35:47 WARN Utils: Service 'SparkUI' could not bind on port 4041. Attempting port 4042.\n",
      "23/05/01 21:35:47 WARN Utils: Service 'SparkUI' could not bind on port 4042. Attempting port 4043.\n",
      "23/05/01 21:35:47 WARN Utils: Service 'SparkUI' could not bind on port 4043. Attempting port 4044.\n"
     ]
    }
   ],
   "source": [
    "\n",
    "import findspark\n",
    "\n",
    "findspark.init(spark_home='/Users/zhanghousu/spark/spark-3.3.1-bin-hadoop2',\n",
    "                python_path='/Users/zhanghousu/conda/bin/python')\n",
    "\n",
    "from pyspark import SparkContext\n",
    "sc = SparkContext()\n",
    "sc.addPyFile(\"jars/graphframes-0.8.2-spark2.4-s_2.11.jar\")\n",
    "\n",
    "                \n",
    "from graphframes import *\n",
    "from pyspark.sql.functions import *"
   ]
  },
  {
   "cell_type": "code",
   "execution_count": 2,
   "id": "68c7b009",
   "metadata": {},
   "outputs": [],
   "source": [
    "links = sc.textFile('movie/links.csv')\n",
    "ratings = sc.textFile('movie/ratings.csv')\n",
    "movies_metadata = sc.textFile('movie/movies_metadata.csv')"
   ]
  },
  {
   "cell_type": "code",
   "execution_count": 3,
   "id": "ae2fcace",
   "metadata": {},
   "outputs": [
    {
     "name": "stderr",
     "output_type": "stream",
     "text": [
      "[Stage 2:>                                                          (0 + 1) / 1]\r"
     ]
    },
    {
     "name": "stdout",
     "output_type": "stream",
     "text": [
      "23/05/01 21:36:00 WARN PythonRunner: Detected deadlock while completing task 0.0 in stage 2 (TID 3): Attempting to kill Python Worker\n"
     ]
    },
    {
     "name": "stderr",
     "output_type": "stream",
     "text": [
      "[Stage 4:>                                                          (0 + 1) / 1]\r"
     ]
    },
    {
     "name": "stdout",
     "output_type": "stream",
     "text": [
      "23/05/01 21:36:13 WARN PythonRunner: Detected deadlock while completing task 0.0 in stage 4 (TID 26): Attempting to kill Python Worker\n"
     ]
    },
    {
     "name": "stderr",
     "output_type": "stream",
     "text": [
      "                                                                                \r"
     ]
    }
   ],
   "source": [
    "from pyspark.sql import SparkSession\n",
    "spark = SparkSession(sc)\n",
    "links_df = spark.read.csv(links, header=True, inferSchema=True, escape='\"')\n",
    "ratings_df = spark.read.csv(ratings, header=True, inferSchema=True, escape='\"')\n",
    "movies_metadata_df = spark.read.csv(movies_metadata, header=True, inferSchema=True, escape='\"')"
   ]
  },
  {
   "cell_type": "code",
   "execution_count": 4,
   "id": "465b27b4",
   "metadata": {},
   "outputs": [
    {
     "name": "stderr",
     "output_type": "stream",
     "text": [
      "[Stage 6:>                                                          (0 + 1) / 1]\r"
     ]
    },
    {
     "name": "stdout",
     "output_type": "stream",
     "text": [
      "23/05/01 21:36:19 WARN PythonRunner: Detected deadlock while completing task 0.0 in stage 6 (TID 29): Attempting to kill Python Worker\n",
      "+------+-------+------+\n",
      "|userId|movieId|rating|\n",
      "+------+-------+------+\n",
      "|     1|    110|   1.0|\n",
      "|     1|    147|   4.5|\n",
      "|     1|    858|   5.0|\n",
      "|     1|   1221|   5.0|\n",
      "|     1|   1246|   5.0|\n",
      "+------+-------+------+\n",
      "only showing top 5 rows\n",
      "\n"
     ]
    },
    {
     "name": "stderr",
     "output_type": "stream",
     "text": [
      "                                                                                \r"
     ]
    }
   ],
   "source": [
    "ra_id_rating = ratings_df.select('userId', 'movieId', 'rating')\n",
    "ra_id_rating.show(5)"
   ]
  },
  {
   "attachments": {},
   "cell_type": "markdown",
   "id": "216de907",
   "metadata": {},
   "source": [
    "## This dataframe code will:\n",
    "\n",
    "#### Create a GraphFrame using the ra_id_rating DataFrame.\n",
    "#### Show the first 5 vertices and edges.\n",
    "#### Calculate the in-degree and out-degree of each vertex.\n",
    "#### Find the top 5 users who have rated the most movies.\n",
    "#### Find the top 5 movies with the most ratings."
   ]
  },
  {
   "cell_type": "code",
   "execution_count": 5,
   "id": "bd901a21",
   "metadata": {},
   "outputs": [
    {
     "name": "stderr",
     "output_type": "stream",
     "text": [
      "/Users/zhanghousu/spark/spark-3.3.1-bin-hadoop2/python/pyspark/sql/dataframe.py:148: UserWarning: DataFrame.sql_ctx is an internal property, and will be removed in future releases. Use DataFrame.sparkSession instead.\n",
      "  warnings.warn(\n",
      "                                                                                \r"
     ]
    },
    {
     "name": "stdout",
     "output_type": "stream",
     "text": [
      "+---+\n",
      "| id|\n",
      "+---+\n",
      "|148|\n",
      "|463|\n",
      "|471|\n",
      "|496|\n",
      "|833|\n",
      "+---+\n",
      "only showing top 5 rows\n",
      "\n"
     ]
    },
    {
     "name": "stderr",
     "output_type": "stream",
     "text": [
      "[Stage 12:>                                                         (0 + 1) / 1]\r"
     ]
    },
    {
     "name": "stdout",
     "output_type": "stream",
     "text": [
      "23/05/01 21:36:45 WARN PythonRunner: Detected deadlock while completing task 0.0 in stage 12 (TID 75): Attempting to kill Python Worker\n",
      "+---+----+------+\n",
      "|src| dst|rating|\n",
      "+---+----+------+\n",
      "|  1| 110|   1.0|\n",
      "|  1| 147|   4.5|\n",
      "|  1| 858|   5.0|\n",
      "|  1|1221|   5.0|\n",
      "|  1|1246|   5.0|\n",
      "+---+----+------+\n",
      "only showing top 5 rows\n",
      "\n"
     ]
    },
    {
     "name": "stderr",
     "output_type": "stream",
     "text": [
      "/Users/zhanghousu/spark/spark-3.3.1-bin-hadoop2/python/pyspark/sql/dataframe.py:127: UserWarning: DataFrame constructor is internal. Do not directly use it.\n",
      "  warnings.warn(\"DataFrame constructor is internal. Do not directly use it.\")\n",
      "                                                                                \r"
     ]
    },
    {
     "name": "stdout",
     "output_type": "stream",
     "text": [
      "+-----+--------+\n",
      "|   id|inDegree|\n",
      "+-----+--------+\n",
      "| 1645|   14346|\n",
      "| 1591|    6317|\n",
      "| 3175|   16216|\n",
      "| 1580|   42193|\n",
      "|68135|    2478|\n",
      "+-----+--------+\n",
      "only showing top 5 rows\n",
      "\n"
     ]
    },
    {
     "name": "stderr",
     "output_type": "stream",
     "text": [
      "                                                                                \r"
     ]
    },
    {
     "name": "stdout",
     "output_type": "stream",
     "text": [
      "+---+---------+\n",
      "| id|outDegree|\n",
      "+---+---------+\n",
      "|148|       43|\n",
      "|463|      261|\n",
      "|471|      193|\n",
      "|496|       10|\n",
      "|833|        3|\n",
      "+---+---------+\n",
      "only showing top 5 rows\n",
      "\n"
     ]
    },
    {
     "name": "stderr",
     "output_type": "stream",
     "text": [
      "                                                                                \r"
     ]
    },
    {
     "name": "stdout",
     "output_type": "stream",
     "text": [
      "23/05/01 21:40:00 WARN DAGScheduler: Broadcasting large task binary with size 2.6 MiB\n"
     ]
    },
    {
     "name": "stderr",
     "output_type": "stream",
     "text": [
      "[Stage 22:=====================================================>  (21 + 1) / 22]\r"
     ]
    },
    {
     "name": "stdout",
     "output_type": "stream",
     "text": [
      "23/05/01 21:40:16 WARN DAGScheduler: Broadcasting large task binary with size 2.6 MiB\n"
     ]
    },
    {
     "name": "stderr",
     "output_type": "stream",
     "text": [
      "[Stage 24:>                                                         (0 + 3) / 3]\r"
     ]
    },
    {
     "name": "stdout",
     "output_type": "stream",
     "text": [
      "23/05/01 21:40:17 WARN DAGScheduler: Broadcasting large task binary with size 2.6 MiB\n"
     ]
    },
    {
     "name": "stderr",
     "output_type": "stream",
     "text": [
      "                                                                                \r"
     ]
    },
    {
     "name": "stdout",
     "output_type": "stream",
     "text": [
      "+------+---------+\n",
      "|    id|outDegree|\n",
      "+------+---------+\n",
      "| 45811|    18276|\n",
      "|  8659|     9279|\n",
      "|270123|     7638|\n",
      "|179792|     7515|\n",
      "|228291|     7410|\n",
      "+------+---------+\n",
      "\n"
     ]
    },
    {
     "name": "stderr",
     "output_type": "stream",
     "text": [
      "[Stage 29:=====================================================>  (21 + 1) / 22]\r"
     ]
    },
    {
     "name": "stdout",
     "output_type": "stream",
     "text": [
      "+----+--------+\n",
      "|  id|inDegree|\n",
      "+----+--------+\n",
      "| 356|   91921|\n",
      "| 318|   91082|\n",
      "| 296|   87901|\n",
      "| 593|   84078|\n",
      "|2571|   77960|\n",
      "+----+--------+\n",
      "\n"
     ]
    },
    {
     "name": "stderr",
     "output_type": "stream",
     "text": [
      "                                                                                \r"
     ]
    }
   ],
   "source": [
    "from graphframes import GraphFrame\n",
    "from pyspark.sql.functions import col\n",
    "\n",
    "# Prepare the vertices DataFrame\n",
    "users_vertices = ra_id_rating.select(\"userId\").distinct().withColumnRenamed(\"userId\", \"id\")\n",
    "movies_vertices = ra_id_rating.select(\"movieId\").distinct().withColumnRenamed(\"movieId\", \"id\")\n",
    "\n",
    "vertices = users_vertices.union(movies_vertices)\n",
    "\n",
    "# Prepare the edges DataFrame\n",
    "edges = ra_id_rating.select(\"userId\", \"movieId\", \"rating\").withColumnRenamed(\"userId\", \"src\")\\\n",
    "                    .withColumnRenamed(\"movieId\", \"dst\")\n",
    "\n",
    "# Create a GraphFrame\n",
    "graph = GraphFrame(vertices, edges)\n",
    "\n",
    "# Show the vertices and edges\n",
    "graph.vertices.show(5)\n",
    "graph.edges.show(5)\n",
    "\n",
    "# Calculate the in-degree of each vertex\n",
    "in_degrees = graph.inDegrees\n",
    "in_degrees.show(5)\n",
    "\n",
    "# Calculate the out-degree of each vertex\n",
    "out_degrees = graph.outDegrees\n",
    "out_degrees.show(5)\n",
    "\n",
    "# Find the top 5 users who have rated the most movies\n",
    "top_raters = out_degrees.filter(col(\"id\").isin(users_vertices.select(\"id\").rdd.map(lambda row: row.id).collect()))\\\n",
    "                        .orderBy(\"outDegree\", ascending=False)\\\n",
    "                        .limit(5)\n",
    "top_raters.show()\n",
    "\n",
    "# Find the top 5 movies with the most ratings\n",
    "top_rated_movies = in_degrees.filter(col(\"id\").isin(movies_vertices.select(\"id\").rdd.map(lambda row: row.id).collect()))\\\n",
    "                             .orderBy(\"inDegree\", ascending=False)\\\n",
    "                             .limit(5)\n",
    "top_rated_movies.show()\n"
   ]
  },
  {
   "cell_type": "code",
   "execution_count": 6,
   "id": "748eb5aa",
   "metadata": {},
   "outputs": [
    {
     "name": "stderr",
     "output_type": "stream",
     "text": [
      "                                                                                \r"
     ]
    },
    {
     "name": "stdout",
     "output_type": "stream",
     "text": [
      "['Movie not found', 'The Million Dollar Hotel', 'Terminator 3: Rise of the Machines', 'Solaris', 'Movie not found']\n"
     ]
    }
   ],
   "source": [
    "# find the most populart movies\n",
    "movieIds = []\n",
    "movieIds = top_rated_movies.select(\"id\").rdd.map(lambda row: row.id).collect()\n",
    "\n",
    "top_rated_movies_titles = []\n",
    "for i in range(len(movieIds)):\n",
    "    title_rows = movies_metadata_df.filter(col(\"id\") == movieIds[i])\\\n",
    "                                   .select(\"title\").rdd.map(lambda row: row.title).collect()\n",
    "    if title_rows:\n",
    "        top_rated_movies_titles.append(title_rows[0])\n",
    "    else:\n",
    "        top_rated_movies_titles.append(\"Movie not found\")\n",
    "print(top_rated_movies_titles)"
   ]
  },
  {
   "cell_type": "code",
   "execution_count": 7,
   "id": "472fad68",
   "metadata": {},
   "outputs": [
    {
     "name": "stderr",
     "output_type": "stream",
     "text": [
      "                                                                                \r"
     ]
    },
    {
     "name": "stdout",
     "output_type": "stream",
     "text": [
      "+------+\n",
      "|    id|\n",
      "+------+\n",
      "|110081|\n",
      "|109068|\n",
      "|117500|\n",
      "| 94265|\n",
      "|106544|\n",
      "+------+\n",
      "only showing top 5 rows\n",
      "\n",
      "+------+-----+\n",
      "|   src|  dst|\n",
      "+------+-----+\n",
      "|114709|  862|\n",
      "|113497| 8844|\n",
      "|113228|15602|\n",
      "|114885|31357|\n",
      "|113041|11862|\n",
      "+------+-----+\n",
      "only showing top 5 rows\n",
      "\n",
      "+------+------+\n",
      "|    id|degree|\n",
      "+------+------+\n",
      "|110081|     1|\n",
      "|109068|     1|\n",
      "| 11858|     1|\n",
      "| 36355|     1|\n",
      "|117500|     2|\n",
      "+------+------+\n",
      "only showing top 5 rows\n",
      "\n"
     ]
    }
   ],
   "source": [
    "from graphframes import GraphFrame\n",
    "\n",
    "# Prepare the vertices DataFrame\n",
    "imdb_vertices = links_df.select(\"imdbId\").distinct().withColumnRenamed(\"imdbId\", \"id\")\n",
    "tmdb_vertices = links_df.select(\"tmdbId\").distinct().withColumnRenamed(\"tmdbId\", \"id\")\n",
    "\n",
    "vertices = imdb_vertices.union(tmdb_vertices)\n",
    "\n",
    "# Prepare the edges DataFrame\n",
    "edges = links_df.select(\"imdbId\", \"tmdbId\").withColumnRenamed(\"imdbId\", \"src\").withColumnRenamed(\"tmdbId\", \"dst\")\n",
    "\n",
    "# Create a GraphFrame\n",
    "graph = GraphFrame(vertices, edges)\n",
    "\n",
    "# Show the vertices and edges\n",
    "graph.vertices.show(5)\n",
    "graph.edges.show(5)\n",
    "\n",
    "# Calculate the degree of each vertex\n",
    "degrees = graph.degrees\n",
    "degrees.show(5)\n"
   ]
  },
  {
   "attachments": {},
   "cell_type": "markdown",
   "id": "4e906762",
   "metadata": {},
   "source": [
    "This result shows some basic information about the GraphFrame created using the links_df dataset. We can see that the vertices DataFrame is only showing the top 5 vertices, which includes the imdbId data. The edges DataFrame displays the top 5 mappings between imdbId and tmdbId, i.e., the source vertex (src) and the target vertex (dst).\n",
    "\n",
    "Finally, we calculated the degree of each vertex, and here we are showing the top 5 vertices' degrees. The degree represents the number of edges related to the vertex. In this example, we can see that the degree varies between 1 and 2. This indicates that in our dataset, the association between most imdbId and tmdbId is relatively weak, with only a few imdbId being associated with multiple tmdbId."
   ]
  },
  {
   "cell_type": "code",
   "execution_count": 8,
   "id": "5139b49c",
   "metadata": {},
   "outputs": [
    {
     "name": "stdout",
     "output_type": "stream",
     "text": [
      "Requirement already satisfied: networkx in /Users/zhanghousu/conda/lib/python3.9/site-packages (2.8.4)\n",
      "Requirement already satisfied: matplotlib in /Users/zhanghousu/conda/lib/python3.9/site-packages (3.5.2)\n",
      "Requirement already satisfied: cycler>=0.10 in /Users/zhanghousu/conda/lib/python3.9/site-packages (from matplotlib) (0.11.0)\n",
      "Requirement already satisfied: fonttools>=4.22.0 in /Users/zhanghousu/conda/lib/python3.9/site-packages (from matplotlib) (4.25.0)\n",
      "Requirement already satisfied: kiwisolver>=1.0.1 in /Users/zhanghousu/conda/lib/python3.9/site-packages (from matplotlib) (1.4.2)\n",
      "Requirement already satisfied: numpy>=1.17 in /Users/zhanghousu/conda/lib/python3.9/site-packages (from matplotlib) (1.21.5)\n",
      "Requirement already satisfied: packaging>=20.0 in /Users/zhanghousu/conda/lib/python3.9/site-packages (from matplotlib) (21.3)\n",
      "Requirement already satisfied: pillow>=6.2.0 in /Users/zhanghousu/conda/lib/python3.9/site-packages (from matplotlib) (9.2.0)\n",
      "Requirement already satisfied: pyparsing>=2.2.1 in /Users/zhanghousu/conda/lib/python3.9/site-packages (from matplotlib) (3.0.9)\n",
      "Requirement already satisfied: python-dateutil>=2.7 in /Users/zhanghousu/conda/lib/python3.9/site-packages (from matplotlib) (2.8.2)\n",
      "Requirement already satisfied: six>=1.5 in /Users/zhanghousu/conda/lib/python3.9/site-packages (from python-dateutil>=2.7->matplotlib) (1.16.0)\n",
      "Note: you may need to restart the kernel to use updated packages.\n"
     ]
    }
   ],
   "source": [
    "%pip install networkx matplotlib\n"
   ]
  },
  {
   "cell_type": "code",
   "execution_count": 9,
   "id": "bd6c756b",
   "metadata": {},
   "outputs": [
    {
     "name": "stderr",
     "output_type": "stream",
     "text": [
      "[Stage 51:>                                                         (0 + 1) / 1]\r"
     ]
    },
    {
     "name": "stdout",
     "output_type": "stream",
     "text": [
      "23/05/01 21:41:33 WARN PythonRunner: Detected deadlock while completing task 0.0 in stage 51 (TID 271): Attempting to kill Python Worker\n",
      "+-----+--------------------+\n",
      "|   id|              genres|\n",
      "+-----+--------------------+\n",
      "|  862|[{'id': 16, 'name...|\n",
      "| 8844|[{'id': 12, 'name...|\n",
      "|15602|[{'id': 10749, 'n...|\n",
      "|31357|[{'id': 35, 'name...|\n",
      "|11862|[{'id': 35, 'name...|\n",
      "+-----+--------------------+\n",
      "only showing top 5 rows\n",
      "\n"
     ]
    },
    {
     "name": "stderr",
     "output_type": "stream",
     "text": [
      "                                                                                \r"
     ]
    }
   ],
   "source": [
    "movi_df = movies_metadata_df.select('id','genres')\n",
    "movi_df.show(5)"
   ]
  },
  {
   "cell_type": "code",
   "execution_count": 10,
   "id": "19b15ede",
   "metadata": {},
   "outputs": [
    {
     "name": "stderr",
     "output_type": "stream",
     "text": [
      "[Stage 52:>                                                         (0 + 1) / 1]\r"
     ]
    },
    {
     "name": "stdout",
     "output_type": "stream",
     "text": [
      "23/05/01 21:41:38 WARN PythonRunner: Detected deadlock while completing task 0.0 in stage 52 (TID 272): Attempting to kill Python Worker\n",
      "+-------+--------------------+\n",
      "|movieId|              genres|\n",
      "+-------+--------------------+\n",
      "|    862|[{'id': 16, 'name...|\n",
      "|   8844|[{'id': 12, 'name...|\n",
      "|  15602|[{'id': 10749, 'n...|\n",
      "|  31357|[{'id': 35, 'name...|\n",
      "|  11862|[{'id': 35, 'name...|\n",
      "+-------+--------------------+\n",
      "only showing top 5 rows\n",
      "\n"
     ]
    },
    {
     "name": "stderr",
     "output_type": "stream",
     "text": [
      "                                                                                \r"
     ]
    }
   ],
   "source": [
    "movi_df = movi_df.withColumnRenamed(\"id\", \"movieId\")\n",
    "movi_df = movi_df.drop(\"id\")\n",
    "movi_df.show(5)"
   ]
  },
  {
   "cell_type": "code",
   "execution_count": 11,
   "id": "b1525e78",
   "metadata": {},
   "outputs": [
    {
     "name": "stderr",
     "output_type": "stream",
     "text": [
      "[Stage 53:>                                                         (0 + 1) / 1]\r"
     ]
    },
    {
     "name": "stdout",
     "output_type": "stream",
     "text": [
      "23/05/01 21:41:42 WARN PythonRunner: Detected deadlock while completing task 0.0 in stage 53 (TID 273): Attempting to kill Python Worker\n",
      "+-------+----------+\n",
      "|movieId|genre_name|\n",
      "+-------+----------+\n",
      "|    862| Animation|\n",
      "|    862|    Comedy|\n",
      "|    862|    Family|\n",
      "|   8844| Adventure|\n",
      "|   8844|   Fantasy|\n",
      "+-------+----------+\n",
      "only showing top 5 rows\n",
      "\n"
     ]
    },
    {
     "name": "stderr",
     "output_type": "stream",
     "text": [
      "                                                                                \r"
     ]
    }
   ],
   "source": [
    "from pyspark.sql.functions import from_json, col, explode, \\\n",
    "    get_json_object, regexp_replace, array\n",
    "from pyspark.sql.types import StructType, StructField, \\\n",
    "    StringType, IntegerType, ArrayType, MapType, DoubleType\n",
    "\n",
    "json_schema = ArrayType(StructType([\n",
    "    StructField(\"id\", IntegerType(), True),\n",
    "    StructField(\"name\", StringType(), True)\n",
    "]))\n",
    "\n",
    "mv_ges = movi_df.withColumn('genres', regexp_replace(\"genres\", 'None', \"'None'\"))\n",
    "mv_ges = mv_ges.withColumn(\"genres_array\", from_json(col(\"genres\"), json_schema))\n",
    "\n",
    "# explode\n",
    "mv_ges = mv_ges.select(col(\"movieId\"), explode(col(\"genres_array\")).alias(\"genres_item\"))\n",
    "\n",
    "# extract\n",
    "mv_ges_df = mv_ges.withColumn(\"genre_name\", col(\"genres_item\")[\"name\"]) \\\n",
    "    .drop('genres_item')\n",
    "\n",
    "mv_ges_df.show(5)"
   ]
  },
  {
   "cell_type": "code",
   "execution_count": 12,
   "id": "0db6cb1d",
   "metadata": {},
   "outputs": [
    {
     "name": "stderr",
     "output_type": "stream",
     "text": [
      "[Stage 54:>                                                         (0 + 1) / 1]\r"
     ]
    },
    {
     "name": "stdout",
     "output_type": "stream",
     "text": [
      "23/05/01 21:41:47 WARN PythonRunner: Detected deadlock while completing task 0.0 in stage 54 (TID 274): Attempting to kill Python Worker\n",
      "+-------+------+\n",
      "|movieId|userId|\n",
      "+-------+------+\n",
      "|    110|     1|\n",
      "|    147|     1|\n",
      "|    858|     1|\n",
      "|   1221|     1|\n",
      "|   1246|     1|\n",
      "+-------+------+\n",
      "only showing top 5 rows\n",
      "\n"
     ]
    },
    {
     "name": "stderr",
     "output_type": "stream",
     "text": [
      "                                                                                \r"
     ]
    }
   ],
   "source": [
    "ra_df = ratings_df.select('movieId','userId')\n",
    "ra_df.show(5)"
   ]
  },
  {
   "cell_type": "code",
   "execution_count": 13,
   "id": "f10f6d3f",
   "metadata": {},
   "outputs": [
    {
     "name": "stderr",
     "output_type": "stream",
     "text": [
      "                                                                                \r"
     ]
    },
    {
     "name": "stdout",
     "output_type": "stream",
     "text": [
      "+-------+------+----------+\n",
      "|movieId|userId|genre_name|\n",
      "+-------+------+----------+\n",
      "|   1645|     4|  Thriller|\n",
      "|   1645|     4|     Drama|\n",
      "|   1645|     4|     Crime|\n",
      "|   1591|     8|     Drama|\n",
      "|   3175|     8|       War|\n",
      "+-------+------+----------+\n",
      "only showing top 5 rows\n",
      "\n"
     ]
    }
   ],
   "source": [
    "# join two dataframe\n",
    "joined_df = ra_df.join(mv_ges_df, on=\"movieId\", how=\"inner\")\n",
    "joined_df.show(5)\n"
   ]
  },
  {
   "cell_type": "code",
   "execution_count": 14,
   "id": "d072f641",
   "metadata": {},
   "outputs": [
    {
     "name": "stderr",
     "output_type": "stream",
     "text": [
      "                                                                                \r"
     ]
    },
    {
     "data": {
      "text/plain": [
       "27741678"
      ]
     },
     "execution_count": 14,
     "metadata": {},
     "output_type": "execute_result"
    }
   ],
   "source": [
    "joined_df.count()"
   ]
  },
  {
   "cell_type": "code",
   "execution_count": 15,
   "id": "31f1e3b2",
   "metadata": {},
   "outputs": [
    {
     "name": "stderr",
     "output_type": "stream",
     "text": [
      "[Stage 88:==================================================>     (10 + 1) / 11]\r"
     ]
    },
    {
     "name": "stdout",
     "output_type": "stream",
     "text": [
      "+------+-----------+\n",
      "|userId|num_ratings|\n",
      "+------+-----------+\n",
      "| 45811|       7781|\n",
      "|  8659|       7309|\n",
      "|179792|       6247|\n",
      "|107720|       5265|\n",
      "|229879|       4782|\n",
      "+------+-----------+\n",
      "only showing top 5 rows\n",
      "\n"
     ]
    },
    {
     "name": "stderr",
     "output_type": "stream",
     "text": [
      "                                                                                \r"
     ]
    }
   ],
   "source": [
    "from pyspark.sql.functions import count, col\n",
    "\n",
    "# count the number of users\n",
    "total_users = joined_df.select(\"userId\").distinct().count()\n",
    "\n",
    "top_1_percent_users_count = int(total_users * 0.0002)\n",
    "\n",
    "# count the number of ratings per user\n",
    "user_ratings_count = joined_df.groupBy(\"userId\").agg(count(\"movieId\").alias(\"num_ratings\"))\n",
    "\n",
    "# sort by the number of ratings\n",
    "sorted_users = user_ratings_count.sort(col(\"num_ratings\").desc())\n",
    "\n",
    "top_1_percent_users = sorted_users.limit(top_1_percent_users_count)\n",
    "\n",
    "top_1_percent_users.show(5)\n"
   ]
  },
  {
   "cell_type": "code",
   "execution_count": 16,
   "id": "0c4eb171",
   "metadata": {},
   "outputs": [
    {
     "name": "stderr",
     "output_type": "stream",
     "text": [
      "                                                                                \r"
     ]
    },
    {
     "data": {
      "text/plain": [
       "53"
      ]
     },
     "execution_count": 16,
     "metadata": {},
     "output_type": "execute_result"
    }
   ],
   "source": [
    "top_1_percent_users.count()"
   ]
  },
  {
   "cell_type": "code",
   "execution_count": 17,
   "id": "f33c144d",
   "metadata": {},
   "outputs": [
    {
     "name": "stderr",
     "output_type": "stream",
     "text": [
      "                                                                                \r"
     ]
    },
    {
     "name": "stdout",
     "output_type": "stream",
     "text": [
      "+------+-----------+-------+----------+\n",
      "|userId|num_ratings|movieId|genre_name|\n",
      "+------+-----------+-------+----------+\n",
      "|  8659|       7309|    148|   Romance|\n",
      "|  8659|       7309|    148|     Drama|\n",
      "|  8659|       7309|    471|     Drama|\n",
      "|  8659|       7309|    496|    Comedy|\n",
      "|  8659|       7309|    833|     Drama|\n",
      "+------+-----------+-------+----------+\n",
      "only showing top 5 rows\n",
      "\n"
     ]
    }
   ],
   "source": [
    "graph_df = top_1_percent_users.join(joined_df, on=\"userId\", how=\"inner\")\n",
    "graph_df.show(5)"
   ]
  },
  {
   "cell_type": "code",
   "execution_count": 18,
   "id": "f811b35b",
   "metadata": {},
   "outputs": [
    {
     "name": "stderr",
     "output_type": "stream",
     "text": [
      "                                                                                \r"
     ]
    },
    {
     "data": {
      "text/plain": [
       "192947"
      ]
     },
     "execution_count": 18,
     "metadata": {},
     "output_type": "execute_result"
    }
   ],
   "source": [
    "graph_df.count()"
   ]
  },
  {
   "cell_type": "code",
   "execution_count": 19,
   "id": "292105d9",
   "metadata": {},
   "outputs": [
    {
     "name": "stderr",
     "output_type": "stream",
     "text": [
      "                                                                                \r"
     ]
    },
    {
     "name": "stdout",
     "output_type": "stream",
     "text": [
      "+------+----------+-----------+----------+\n",
      "|userId|genre_name|genre_count|row_number|\n",
      "+------+----------+-----------+----------+\n",
      "|  8659|     Drama|       1650|         1|\n",
      "|  8659|    Comedy|        923|         2|\n",
      "|  8659|  Thriller|        725|         3|\n",
      "|  8659|    Action|        588|         4|\n",
      "|  8659|   Romance|        571|         5|\n",
      "| 24025|     Drama|        700|         1|\n",
      "| 24025|    Comedy|        378|         2|\n",
      "| 24025|  Thriller|        306|         3|\n",
      "| 24025|    Action|        248|         4|\n",
      "| 24025|   Romance|        228|         5|\n",
      "| 32984|     Drama|        681|         1|\n",
      "| 32984|    Comedy|        402|         2|\n",
      "| 32984|  Thriller|        282|         3|\n",
      "| 32984|   Romance|        236|         4|\n",
      "| 32984|    Action|        231|         5|\n",
      "| 33940|     Drama|        692|         1|\n",
      "| 33940|    Comedy|        367|         2|\n",
      "| 33940|  Thriller|        329|         3|\n",
      "| 33940|   Romance|        256|         4|\n",
      "| 33940|    Action|        246|         5|\n",
      "+------+----------+-----------+----------+\n",
      "only showing top 20 rows\n",
      "\n"
     ]
    }
   ],
   "source": [
    "from pyspark.sql.functions import count, row_number\n",
    "from pyspark.sql.window import Window\n",
    "\n",
    "# count the number of movies per genre per user\n",
    "genre_count_df = graph_df.groupBy(\"userId\", \"genre_name\").agg(count(\"movieId\").alias(\"genre_count\"))\n",
    "\n",
    "# sort by userId and genre_count in descending order\n",
    "sorted_genres = genre_count_df.orderBy(\"userId\", col(\"genre_count\").desc())\n",
    "\n",
    "# add a row number per userId\n",
    "window_spec = Window.partitionBy(\"userId\").orderBy(col(\"genre_count\").desc())\n",
    "row_num_df = sorted_genres.withColumn(\"row_number\", row_number().over(window_spec))\n",
    "\n",
    "# filter for the top 2 genres per user\n",
    "top_5_genres_per_user = row_num_df.filter(col(\"row_number\") <= 5)\n",
    "\n",
    "top_5_genres_per_user.show()\n"
   ]
  },
  {
   "cell_type": "code",
   "execution_count": 20,
   "id": "bf24e5ed",
   "metadata": {},
   "outputs": [
    {
     "name": "stderr",
     "output_type": "stream",
     "text": [
      "                                                                                \r"
     ]
    },
    {
     "data": {
      "text/plain": [
       "265"
      ]
     },
     "execution_count": 20,
     "metadata": {},
     "output_type": "execute_result"
    }
   ],
   "source": [
    "top_5_genres_per_user.count()"
   ]
  },
  {
   "cell_type": "code",
   "execution_count": 21,
   "id": "c447fd15",
   "metadata": {},
   "outputs": [
    {
     "name": "stderr",
     "output_type": "stream",
     "text": [
      "                                                                                \r"
     ]
    },
    {
     "name": "stdout",
     "output_type": "stream",
     "text": [
      "+-----+\n",
      "|   id|\n",
      "+-----+\n",
      "| 8659|\n",
      "|24025|\n",
      "|32984|\n",
      "|33940|\n",
      "|40207|\n",
      "+-----+\n",
      "only showing top 5 rows\n",
      "\n"
     ]
    },
    {
     "name": "stderr",
     "output_type": "stream",
     "text": [
      "                                                                                \r"
     ]
    },
    {
     "name": "stdout",
     "output_type": "stream",
     "text": [
      "+----+--------+\n",
      "| src|     dst|\n",
      "+----+--------+\n",
      "|8659|   Drama|\n",
      "|8659|  Comedy|\n",
      "|8659|Thriller|\n",
      "|8659|  Action|\n",
      "|8659| Romance|\n",
      "+----+--------+\n",
      "only showing top 5 rows\n",
      "\n"
     ]
    }
   ],
   "source": [
    "from graphframes import GraphFrame\n",
    "\n",
    "# create the vertices DataFrame\n",
    "users_vertices = top_5_genres_per_user.select(\"userId\").distinct().withColumnRenamed(\"userId\", \"id\")\n",
    "genres_vertices = top_5_genres_per_user.select(\"genre_name\").distinct().withColumnRenamed(\"genre_name\", \"id\")\n",
    "\n",
    "vertices = users_vertices.union(genres_vertices)\n",
    "\n",
    "# create the edges DataFrame\n",
    "edges = top_5_genres_per_user.select(\"userId\", \"genre_name\")\\\n",
    "                              .withColumnRenamed(\"userId\", \"src\")\\\n",
    "                              .withColumnRenamed(\"genre_name\", \"dst\")\n",
    "\n",
    "# create a GraphFrame\n",
    "graph = GraphFrame(vertices, edges)\n",
    "\n",
    "# show the vertices and edges\n",
    "graph.vertices.show(5)\n",
    "graph.edges.show(5)\n"
   ]
  },
  {
   "cell_type": "code",
   "execution_count": 22,
   "id": "c77432f5",
   "metadata": {},
   "outputs": [
    {
     "name": "stderr",
     "output_type": "stream",
     "text": [
      "/Users/zhanghousu/spark/spark-3.3.1-bin-hadoop2/python/pyspark/sql/dataframe.py:148: UserWarning: DataFrame.sql_ctx is an internal property, and will be removed in future releases. Use DataFrame.sparkSession instead.\n",
      "  warnings.warn(\n",
      "                                                                                \r"
     ]
    },
    {
     "data": {
      "image/png": "[encoded data removed]",
      "text/plain": [
       "<Figure size 640x480 with 1 Axes>"
      ]
     },
     "metadata": {},
     "output_type": "display_data"
    }
   ],
   "source": [
    "from graphframes import GraphFrame\n",
    "import networkx as nx\n",
    "import matplotlib.pyplot as plt\n",
    "\n",
    "# create vertices DataFrame\n",
    "distinct_users = top_5_genres_per_user.select(\"userId\").distinct().withColumnRenamed(\"userId\", \"id\")\n",
    "distinct_genres = top_5_genres_per_user.select(\"genre_name\").distinct().withColumnRenamed(\"genre_name\", \"id\")\n",
    "vertices = distinct_users.union(distinct_genres)\n",
    "\n",
    "# create edges DataFrame\n",
    "edges = top_5_genres_per_user.select(\"userId\", \"genre_name\", \"row_number\").withColumnRenamed(\"userId\", \"src\").withColumnRenamed(\"genre_name\", \"dst\")\n",
    "\n",
    "# create a GraphFrame\n",
    "graph = GraphFrame(vertices, edges)\n",
    "\n",
    "# show the vertices and edges\n",
    "vertices_pd = graph.vertices.toPandas()\n",
    "edges_pd = graph.edges.toPandas()\n",
    "\n",
    "# create a directed graph\n",
    "G = nx.from_pandas_edgelist(edges_pd, source='src', target='dst', edge_attr='row_number', create_using=nx.DiGraph())\n",
    "\n",
    "# create a list of colors for nodes\n",
    "colors = []\n",
    "sizes = []\n",
    "for node in G.nodes:\n",
    "    if str(node).isdigit():\n",
    "        colors.append('red')\n",
    "        sizes.append(500)\n",
    "    else:\n",
    "        colors.append('lightblue')\n",
    "        sizes.append(1500)\n",
    "\n",
    "# plot the graph\n",
    "pos = nx.spring_layout(G)\n",
    "nx.draw_networkx_nodes(G, pos, node_size=sizes, node_color=colors)\n",
    "nx.draw_networkx_edges(G, pos, width=[6 - G[u][v]['row_number'] for u, v in G.edges()], edge_color='gray', alpha=0.5)\n",
    "labels = {genre: genre for genre in vertices_pd['id'] if not str(genre).isdigit()}\n",
    "nx.draw_networkx_labels(G, pos, labels, font_size=8, font_color='black')\n",
    "plt.show()\n"
   ]
  },
  {
   "cell_type": "code",
   "execution_count": 23,
   "id": "37030d15",
   "metadata": {},
   "outputs": [],
   "source": [
    "sc.stop()"
   ]
  }
 ],
 "metadata": {
  "kernelspec": {
   "display_name": "Python 3 (ipykernel)",
   "language": "python",
   "name": "python3"
  },
  "language_info": {
   "codemirror_mode": {
    "name": "ipython",
    "version": 3
   },
   "file_extension": ".py",
   "mimetype": "text/x-python",
   "name": "python",
   "nbconvert_exporter": "python",
   "pygments_lexer": "ipython3",
   "version": "3.9.13"
  }
 },
 "nbformat": 4,
 "nbformat_minor": 5
}
